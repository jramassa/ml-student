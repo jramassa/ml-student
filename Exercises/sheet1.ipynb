{
  "cells": [
    {
      "cell_type": "markdown",
      "metadata": {
        "id": "_CACBFsndOCo"
      },
      "source": [
        "**Fiche d'exercice n°1**\n",
        "\n",
        "Cette fiche d'exercices doit permettre de :\n",
        "- s'entraîner au devoir de janvier\n",
        "- compléter votre culture dans le domaine\n",
        "\n",
        "La correction sera mise à disposition autour du 11/11."
      ]
    },
    {
      "cell_type": "markdown",
      "metadata": {
        "id": "t5RcggmAkJLV"
      },
      "source": [
        "**Question 1** Nous avons vu qu'il était impossible de séparer les nuages de points du TP1/partie I/B avec un perceptron une couche. Mais c'est parce que nous nous sommes limités à deux prédicteurs, l'abscisse $x$ et l'ordonnée $y$. Quels autres prédicteurs peut-on utiliser pour résoudre le problème sans ajouter de couches au perceptron ?\n",
        "  "
      ]
    },
    {
      "cell_type": "markdown",
      "source": [
        "Les prédicteurs que nous pouvons également utiliser seraient une combinaison linéaire des deux premiers. Par exemple, la somme de x et y."
      ],
      "metadata": {
        "id": "1ffltojcYmHG"
      }
    },
    {
      "cell_type": "markdown",
      "metadata": {
        "id": "p4B0YORSkz1G"
      },
      "source": [
        "**Question 2** A quel modèle statistique correspond un perceptron à une couche avec une fonction d'activation sigmoïde ?\n",
        "Citer une bibliothèque python qui permet d'appliquer ce modèle à un jeu de données."
      ]
    },
    {
      "cell_type": "markdown",
      "source": [
        "pytorch bibliothèque permettant d'appliquer ce modèle"
      ],
      "metadata": {
        "id": "fPBCBrPZY97d"
      }
    },
    {
      "cell_type": "markdown",
      "metadata": {
        "id": "EUCeXqO7icjq"
      },
      "source": [
        "**Question 3** Combien un VGG16 contient-il de paramètres dans les couches de convolutions ? Dans les couches complètement connectées ?\n",
        "Appuyer par un bout de code."
      ]
    },
    {
      "cell_type": "code",
      "source": [
        "import matplotlib.pyplot as plt\n",
        "import numpy as np\n",
        "import os\n",
        "\n",
        "import torch\n",
        "import torch.nn as nn   # pre-defined layers\n",
        "\n",
        "from torch.utils.data import Dataset, DataLoader\n",
        "\n",
        "# to load pre-trained models on ImageNet:\n",
        "import torchvision\n",
        "from torchvision import datasets, models, transforms\n",
        "\n",
        "model = models.vgg16(pretrained = False)\n",
        "print(model)\n",
        "\n",
        "conv_weights = 0\n",
        "\n",
        "linear_weights = 0\n",
        "\n",
        "for module in model.modules():\n",
        "  if isinstance(module, nn.Conv2d):\n",
        "    for parameter in module.parameters():\n",
        "      conv_weights += torch.numel(parameter)\n",
        "  if isinstance(module, nn.Linear):\n",
        "    for parameter in module.parameters():\n",
        "      linear_weights += torch.numel(parameter)\n",
        "\n",
        "print(conv_weights)\n",
        "print(linear_weights)\n"
      ],
      "metadata": {
        "id": "kJYLstZba9dN",
        "outputId": "3d0e55b7-ff01-4bf5-c795-eb35c39e40de",
        "colab": {
          "base_uri": "https://localhost:8080/"
        }
      },
      "execution_count": 3,
      "outputs": [
        {
          "output_type": "stream",
          "name": "stderr",
          "text": [
            "/usr/local/lib/python3.10/dist-packages/torchvision/models/_utils.py:208: UserWarning: The parameter 'pretrained' is deprecated since 0.13 and may be removed in the future, please use 'weights' instead.\n",
            "  warnings.warn(\n",
            "/usr/local/lib/python3.10/dist-packages/torchvision/models/_utils.py:223: UserWarning: Arguments other than a weight enum or `None` for 'weights' are deprecated since 0.13 and may be removed in the future. The current behavior is equivalent to passing `weights=None`.\n",
            "  warnings.warn(msg)\n"
          ]
        },
        {
          "output_type": "stream",
          "name": "stdout",
          "text": [
            "VGG(\n",
            "  (features): Sequential(\n",
            "    (0): Conv2d(3, 64, kernel_size=(3, 3), stride=(1, 1), padding=(1, 1))\n",
            "    (1): ReLU(inplace=True)\n",
            "    (2): Conv2d(64, 64, kernel_size=(3, 3), stride=(1, 1), padding=(1, 1))\n",
            "    (3): ReLU(inplace=True)\n",
            "    (4): MaxPool2d(kernel_size=2, stride=2, padding=0, dilation=1, ceil_mode=False)\n",
            "    (5): Conv2d(64, 128, kernel_size=(3, 3), stride=(1, 1), padding=(1, 1))\n",
            "    (6): ReLU(inplace=True)\n",
            "    (7): Conv2d(128, 128, kernel_size=(3, 3), stride=(1, 1), padding=(1, 1))\n",
            "    (8): ReLU(inplace=True)\n",
            "    (9): MaxPool2d(kernel_size=2, stride=2, padding=0, dilation=1, ceil_mode=False)\n",
            "    (10): Conv2d(128, 256, kernel_size=(3, 3), stride=(1, 1), padding=(1, 1))\n",
            "    (11): ReLU(inplace=True)\n",
            "    (12): Conv2d(256, 256, kernel_size=(3, 3), stride=(1, 1), padding=(1, 1))\n",
            "    (13): ReLU(inplace=True)\n",
            "    (14): Conv2d(256, 256, kernel_size=(3, 3), stride=(1, 1), padding=(1, 1))\n",
            "    (15): ReLU(inplace=True)\n",
            "    (16): MaxPool2d(kernel_size=2, stride=2, padding=0, dilation=1, ceil_mode=False)\n",
            "    (17): Conv2d(256, 512, kernel_size=(3, 3), stride=(1, 1), padding=(1, 1))\n",
            "    (18): ReLU(inplace=True)\n",
            "    (19): Conv2d(512, 512, kernel_size=(3, 3), stride=(1, 1), padding=(1, 1))\n",
            "    (20): ReLU(inplace=True)\n",
            "    (21): Conv2d(512, 512, kernel_size=(3, 3), stride=(1, 1), padding=(1, 1))\n",
            "    (22): ReLU(inplace=True)\n",
            "    (23): MaxPool2d(kernel_size=2, stride=2, padding=0, dilation=1, ceil_mode=False)\n",
            "    (24): Conv2d(512, 512, kernel_size=(3, 3), stride=(1, 1), padding=(1, 1))\n",
            "    (25): ReLU(inplace=True)\n",
            "    (26): Conv2d(512, 512, kernel_size=(3, 3), stride=(1, 1), padding=(1, 1))\n",
            "    (27): ReLU(inplace=True)\n",
            "    (28): Conv2d(512, 512, kernel_size=(3, 3), stride=(1, 1), padding=(1, 1))\n",
            "    (29): ReLU(inplace=True)\n",
            "    (30): MaxPool2d(kernel_size=2, stride=2, padding=0, dilation=1, ceil_mode=False)\n",
            "  )\n",
            "  (avgpool): AdaptiveAvgPool2d(output_size=(7, 7))\n",
            "  (classifier): Sequential(\n",
            "    (0): Linear(in_features=25088, out_features=4096, bias=True)\n",
            "    (1): ReLU(inplace=True)\n",
            "    (2): Dropout(p=0.5, inplace=False)\n",
            "    (3): Linear(in_features=4096, out_features=4096, bias=True)\n",
            "    (4): ReLU(inplace=True)\n",
            "    (5): Dropout(p=0.5, inplace=False)\n",
            "    (6): Linear(in_features=4096, out_features=1000, bias=True)\n",
            "  )\n",
            ")\n",
            "14714688\n",
            "123642856\n"
          ]
        }
      ]
    },
    {
      "cell_type": "markdown",
      "metadata": {
        "id": "sjBFb83GmuEY"
      },
      "source": [
        "**Question 4** Visualiser la première couche d'un VGG entraîné sur ImageNet. Commenter."
      ]
    },
    {
      "cell_type": "code",
      "source": [
        "model = models.vgg16(pretrained = True)\n",
        "first_layer = model.features[0].weight.data\n",
        "print(first_layer.shape)\n",
        "plt.figure(figsize=(15, 15))\n",
        "for i in range(first_layer.shape[0]):\n",
        "    plt.subplot(8, 8, i+1) #\n",
        "    plt.imshow(first_layer[i, 0, :, :], cmap='seismic')\n",
        "    plt.axis('off')\n",
        "plt.show()"
      ],
      "metadata": {
        "id": "IInv08pzdjAK",
        "outputId": "8afc55a5-3a10-43c7-8f81-106da52a1472",
        "colab": {
          "base_uri": "https://localhost:8080/",
          "height": 1000
        }
      },
      "execution_count": 9,
      "outputs": [
        {
          "output_type": "stream",
          "name": "stdout",
          "text": [
            "torch.Size([64, 3, 3, 3])\n"
          ]
        },
        {
          "output_type": "display_data",
          "data": {
            "text/plain": [
              "<Figure size 1500x1500 with 64 Axes>"
            ],
            "image/png": "[encoded data removed]"
          },
          "metadata": {}
        }
      ]
    },
    {
      "cell_type": "markdown",
      "source": [
        "Extracteurs de contours et détecteurs de particularités (lignes...)"
      ],
      "metadata": {
        "id": "7j0o9RTIh7IX"
      }
    },
    {
      "cell_type": "markdown",
      "metadata": {
        "id": "hfcRiTA2mzrp"
      },
      "source": [
        "**Question 5** Quel est l'effet d'un dropout sur les couches complètement connectées ? Illustrer sur un perceptron à une couche avec quelques lignes de codes."
      ]
    },
    {
      "cell_type": "markdown",
      "source": [
        "Le dropout permet de geler certains neurones pour éviter le surapprentissage."
      ],
      "metadata": {
        "id": "sfhK7k4diYtd"
      }
    },
    {
      "cell_type": "code",
      "source": [
        "import torch.nn.functional as F\n",
        "\n",
        "class P1(nn.Module):\n",
        "\n",
        "    def __init__(self):\n",
        "        super(P1, self).__init__()\n",
        "        self.fc = nn.Linear(2, 1)\n",
        "\n",
        "    def forward(self, x):\n",
        "        # Dot product and bias\n",
        "        x = self.fc(x)\n",
        "        # Activation\n",
        "        x = x.sigmoid()\n",
        "        x = F.dropout(x, training=self.training)\n",
        "        # Vector of \"probabilities\" (cat: concatenation)\n",
        "        x = torch.cat((x, 1 - x), dim=1)\n",
        "        return x\n"
      ],
      "metadata": {
        "id": "CqknqlLLio5y"
      },
      "execution_count": 26,
      "outputs": []
    },
    {
      "cell_type": "markdown",
      "metadata": {
        "id": "i-xSNmhpm1LB"
      },
      "source": [
        "**Problème 1** Classification avec cibles bruitées\n",
        "\n",
        "Les utilisateurs du Machine Learning font souvent face à un problème de qualité des cibles.\n",
        "Dans ce court problème, on se propose de mesurer l'effet de cibles bruitées sur les performances en généralisation d'un CNN.\n",
        "\n",
        "\n",
        "Pour une comparaison propre, nous allons d'abord scinder en trois jeux le dataset MNIST :\n"
      ]
    },
    {
      "cell_type": "code",
      "execution_count": 27,
      "metadata": {
        "id": "NozoimIfmkjc"
      },
      "outputs": [],
      "source": [
        "import torchvision\n",
        "from torchvision import datasets\n",
        "import torch\n",
        "from torch.utils.data import random_split, Dataset, DataLoader\n",
        "root = '/content/drive/MyDrive/TP_ENM/data'\n",
        "\n",
        "#Définition des jeux d'apprentissage:\n",
        "tr=torchvision.transforms.Compose([\n",
        "   torchvision.transforms.ToTensor(),\n",
        "   torchvision.transforms.Normalize((0.1307,), (0.3081,))\n",
        "   ])\n",
        "\n",
        "\n",
        "ds_trainval = datasets.MNIST(root='MNIST', download=True, train=True)\n",
        "ds_test = datasets.MNIST(root='MNIST', download=True, train=False)\n",
        "\n",
        "\n",
        "\n",
        "len_trainval = len(ds_trainval)\n",
        "len_train = round(0.8 * len_trainval)\n",
        "len_val = len_trainval - len_train\n",
        "subset_train, subset_val = random_split(ds_trainval,\n",
        "                                [len_train, len_val],\n",
        "                                generator=torch.Generator().manual_seed(1))"
      ]
    },
    {
      "cell_type": "code",
      "execution_count": 28,
      "metadata": {
        "id": "rXc4EkTz0IFM"
      },
      "outputs": [],
      "source": [
        "#Split aléatoire en deux datasets (80% train, 20% val):\n",
        "class SubDataset(Dataset):\n",
        "    def __init__(self, subset, transform=None):\n",
        "        self.subset = subset\n",
        "        self.transform = transform\n",
        "\n",
        "    def __getitem__(self, index):\n",
        "        x, y = self.subset[index]\n",
        "        if self.transform:\n",
        "            x = self.transform(x)\n",
        "        return x, y\n",
        "\n",
        "    def __len__(self):\n",
        "        return len(self.subset)"
      ]
    },
    {
      "cell_type": "code",
      "execution_count": 29,
      "metadata": {
        "id": "uOosklok0Lik"
      },
      "outputs": [],
      "source": [
        "ds = {}\n",
        "ds['train'] = SubDataset(subset_train, tr)\n",
        "ds['val'] = SubDataset(subset_val, tr)\n",
        "ds['test'] = ds_test\n",
        "loader = {x : DataLoader(ds[x], batch_size=32, shuffle=True, num_workers = 2) for x in ds.keys()}\n",
        "\n",
        "TrainLoader = loader['train']\n",
        "inputs, labels = next(iter(TrainLoader))"
      ]
    },
    {
      "cell_type": "code",
      "source": [
        "print(len(ds['train']))\n",
        "\n",
        "print(len(ds['val']))\n",
        "\n",
        "print(len(ds['test']))"
      ],
      "metadata": {
        "id": "Sfv-ZsXdlCTc",
        "outputId": "b9db9e77-393c-4933-a403-abbd007c9a76",
        "colab": {
          "base_uri": "https://localhost:8080/"
        }
      },
      "execution_count": 30,
      "outputs": [
        {
          "output_type": "stream",
          "name": "stdout",
          "text": [
            "48000\n",
            "12000\n",
            "10000\n"
          ]
        }
      ]
    },
    {
      "cell_type": "markdown",
      "metadata": {
        "id": "JtQObOlvsZmK"
      },
      "source": [
        "**Question 6**  Quelles sont les tailles des différents jeux de données ? A quoi sert-il de fixer le générateur de nombres aléatoires dans random_split ?"
      ]
    },
    {
      "cell_type": "markdown",
      "metadata": {
        "id": "VPUp4Ckqsvwq"
      },
      "source": [
        "**Question 7** Reprendre le CNN du TP2/partie1 et la fonction train_model_gpu vue au TP2/partie2.\n",
        "- Ajouter une procédure de sélection de modèle à partir des performances sur le jeu de validation.\n",
        "- Coder une fonction test_model_gpu() qui calcule la justesse sur le jeu de test.\n",
        "- Faire tourner l'apprentissage sur 50 époques, avec l'optimiser ADAM, paramétré de manière standard.\n",
        "\n",
        "Quelles sont les performances sur le jeu de test du modèle sélectionné ? \\\\\n"
      ]
    },
    {
      "cell_type": "code",
      "source": [
        "if torch.cuda.is_available():\n",
        "  device = torch.device(\"cuda:0\") # 0 is the index of the GPU\n",
        "  print(torch.cuda.get_device_name(device))\n",
        "else:\n",
        "  print('Change the runtime type to GPU')"
      ],
      "metadata": {
        "id": "Jy1pNZ7envOX",
        "outputId": "5c3c3249-5791-4341-9c11-e6120d4ef545",
        "colab": {
          "base_uri": "https://localhost:8080/"
        }
      },
      "execution_count": 31,
      "outputs": [
        {
          "output_type": "stream",
          "name": "stdout",
          "text": [
            "Tesla T4\n"
          ]
        }
      ]
    },
    {
      "cell_type": "code",
      "source": [
        "import time\n",
        "\n",
        "import copy\n",
        "\n",
        "N = 490\n",
        "\n",
        "class CNN(nn.Module):\n",
        "\n",
        "    def __init__(self):\n",
        "        super(CNN, self).__init__()\n",
        "        self.conv1 = nn.Conv2d(1, 10, kernel_size=5, padding=2)\n",
        "        self.conv2 = nn.Conv2d(10, 10, kernel_size=5, padding=2)\n",
        "        self.fc1 = nn.Linear(N, 50)\n",
        "        self.fc2 = nn.Linear(50, 10)\n",
        "\n",
        "    def forward(self, x):\n",
        "        x = F.relu(F.max_pool2d(self.conv1(x), 2))\n",
        "        x = F.relu(F.max_pool2d(self.conv2(x), 2))\n",
        "        x = x.view(-1, N)\n",
        "        x = F.relu(self.fc1(x))\n",
        "        x = F.dropout(x, training=self.training)\n",
        "        x = self.fc2(x)\n",
        "        # Here, the log is applied after the softmax:\n",
        "        return F.log_softmax(x, dim=1)\n",
        "\n",
        "\n",
        "dataset_sizes = {'train':len(ds['train']), 'val':len(ds['val']), 'test':len(ds['test'])}\n",
        "\n",
        "def train_model_gpu(model, loss_fn, optimizer, num_epochs=1):\n",
        "    # Record the starting time\n",
        "    since = time.time()\n",
        "\n",
        "    best_val_acc = 0\n",
        "    # Loop through epochs\n",
        "    for epoch in range(num_epochs):\n",
        "        print(f'Epoch {epoch}/{num_epochs - 1}')\n",
        "        print('-' * 10)\n",
        "\n",
        "        # Iterate through training and validation phases\n",
        "        for phase in ['train', 'val']:\n",
        "            # Set the model to training mode during the training phase, and evaluation mode during validation\n",
        "            if phase == 'train':\n",
        "                model.train()\n",
        "            else:\n",
        "                model.eval()\n",
        "\n",
        "            # Initialize counters for loss and correct predictions\n",
        "            running_loss = 0.0\n",
        "            running_corrects = 0\n",
        "\n",
        "            # Iterate through batches in the data loader\n",
        "            for inputs, labels in loader[phase]:\n",
        "                # Move inputs and labels to the specified device (GPU)\n",
        "                ### BEGIN SOLUTION\n",
        "                inputs = inputs.to(device)\n",
        "                labels = labels.to(device)\n",
        "                ### END SOLUTION\n",
        "\n",
        "                # Zero the gradients in the optimizer (same as in train_model())\n",
        "                ### BEGIN SOLUTION\n",
        "                optimizer.zero_grad()\n",
        "                ### END SOLUTION\n",
        "                # Forward pass: compute model outputs and predictions (same as in train_model())\n",
        "                with torch.set_grad_enabled(phase == 'train'):\n",
        "                    ### BEGIN SOLUTION\n",
        "                    outputs = model(inputs)\n",
        "                    _, preds = torch.max(outputs, 1)\n",
        "                    loss = loss_fn(outputs, labels)\n",
        "                    ### END SOLUTION\n",
        "                    # Backward pass and optimization step if in the training phase (same as in train_model())\n",
        "                    ### BEGIN SOLUTION\n",
        "                    if phase == 'train':\n",
        "                        loss.backward()\n",
        "                        optimizer.step()\n",
        "                    ### END SOLUTION\n",
        "                # Update counters\n",
        "                running_loss += loss.item() * inputs.size(0)\n",
        "                acc = torch.sum(preds == labels.data)\n",
        "                # The 'acc' tensor is distributed across different parts of the GPU\n",
        "                # Gather the 'acc' tensor on the CPU before accumulation\n",
        "                # running_corrects += ...\n",
        "                ### BEGIN SOLUTION\n",
        "                running_corrects += acc.cpu()\n",
        "                ### END SOLUTION\n",
        "\n",
        "            # Calculate average loss and accuracy for the epoch\n",
        "            epoch_loss = running_loss / dataset_sizes[phase]\n",
        "            epoch_acc = running_corrects.double() / dataset_sizes[phase]\n",
        "\n",
        "            # At the end of each epoch, save the best model:\n",
        "            if phase == \"val\" and epoch_acc > best_val_acc:\n",
        "              best_model_wts = copy.deepcopy(model.state_dict())\n",
        "\n",
        "            # Print epoch statistics\n",
        "            print(f'{phase} Loss: {epoch_loss:.4f} Acc: {100*epoch_acc:.2f}%')\n",
        "\n",
        "    # Calculate and print the total training time\n",
        "    time_elapsed = time.time() - since\n",
        "    print(f'Training complete in {time_elapsed // 60:.0f}m {time_elapsed % 60:.0f}s')\n",
        "    # Return the trained model\n",
        "    return model, best_model_wts\n",
        "\n",
        "\n",
        "model = CNN()\n",
        "model = model.to(device)\n",
        "optimizer = torch.optim.Adam(model.parameters(), lr=0.001)\n",
        "loss_fn =  nn.CrossEntropyLoss()\n",
        "\n",
        "model, best_model_wts = train_model_gpu(model, loss_fn, optimizer, num_epochs=50)\n"
      ],
      "metadata": {
        "id": "0cqO3zAdnLvZ",
        "outputId": "90a6b431-42f5-48b3-adf4-26e3efe48653",
        "colab": {
          "base_uri": "https://localhost:8080/"
        }
      },
      "execution_count": 48,
      "outputs": [
        {
          "output_type": "stream",
          "name": "stdout",
          "text": [
            "Epoch 0/49\n",
            "----------\n",
            "train Loss: 0.3961 Acc: 87.36%\n",
            "val Loss: 0.0850 Acc: 97.32%\n",
            "Epoch 1/49\n",
            "----------\n",
            "train Loss: 0.1795 Acc: 94.56%\n",
            "val Loss: 0.0610 Acc: 98.07%\n",
            "Epoch 2/49\n",
            "----------\n",
            "train Loss: 0.1380 Acc: 95.95%\n",
            "val Loss: 0.0546 Acc: 98.38%\n",
            "Epoch 3/49\n",
            "----------\n",
            "train Loss: 0.1173 Acc: 96.44%\n",
            "val Loss: 0.0517 Acc: 98.38%\n",
            "Epoch 4/49\n",
            "----------\n",
            "train Loss: 0.1037 Acc: 96.83%\n",
            "val Loss: 0.0481 Acc: 98.59%\n",
            "Epoch 5/49\n",
            "----------\n",
            "train Loss: 0.0942 Acc: 97.15%\n",
            "val Loss: 0.0507 Acc: 98.52%\n",
            "Epoch 6/49\n",
            "----------\n",
            "train Loss: 0.0861 Acc: 97.29%\n",
            "val Loss: 0.0484 Acc: 98.49%\n",
            "Epoch 7/49\n",
            "----------\n",
            "train Loss: 0.0790 Acc: 97.50%\n",
            "val Loss: 0.0469 Acc: 98.66%\n",
            "Epoch 8/49\n",
            "----------\n",
            "train Loss: 0.0772 Acc: 97.59%\n",
            "val Loss: 0.0431 Acc: 98.72%\n",
            "Epoch 9/49\n",
            "----------\n",
            "train Loss: 0.0729 Acc: 97.68%\n",
            "val Loss: 0.0457 Acc: 98.69%\n",
            "Epoch 10/49\n",
            "----------\n",
            "train Loss: 0.0707 Acc: 97.74%\n",
            "val Loss: 0.0450 Acc: 98.78%\n",
            "Epoch 11/49\n",
            "----------\n",
            "train Loss: 0.0657 Acc: 97.85%\n",
            "val Loss: 0.0442 Acc: 98.77%\n",
            "Epoch 12/49\n",
            "----------\n",
            "train Loss: 0.0654 Acc: 97.91%\n",
            "val Loss: 0.0450 Acc: 98.72%\n",
            "Epoch 13/49\n",
            "----------\n",
            "train Loss: 0.0619 Acc: 97.92%\n",
            "val Loss: 0.0500 Acc: 98.72%\n",
            "Epoch 14/49\n",
            "----------\n",
            "train Loss: 0.0608 Acc: 97.97%\n",
            "val Loss: 0.0385 Acc: 98.94%\n",
            "Epoch 15/49\n",
            "----------\n",
            "train Loss: 0.0587 Acc: 98.10%\n",
            "val Loss: 0.0483 Acc: 98.73%\n",
            "Epoch 16/49\n",
            "----------\n",
            "train Loss: 0.0555 Acc: 98.16%\n",
            "val Loss: 0.0463 Acc: 98.78%\n",
            "Epoch 17/49\n",
            "----------\n",
            "train Loss: 0.0559 Acc: 98.19%\n",
            "val Loss: 0.0461 Acc: 98.86%\n",
            "Epoch 18/49\n",
            "----------\n",
            "train Loss: 0.0533 Acc: 98.24%\n",
            "val Loss: 0.0517 Acc: 98.89%\n",
            "Epoch 19/49\n",
            "----------\n",
            "train Loss: 0.0500 Acc: 98.34%\n",
            "val Loss: 0.0422 Acc: 98.89%\n",
            "Epoch 20/49\n",
            "----------\n",
            "train Loss: 0.0499 Acc: 98.38%\n",
            "val Loss: 0.0501 Acc: 98.84%\n",
            "Epoch 21/49\n",
            "----------\n",
            "train Loss: 0.0478 Acc: 98.30%\n",
            "val Loss: 0.0453 Acc: 98.92%\n",
            "Epoch 22/49\n",
            "----------\n",
            "train Loss: 0.0499 Acc: 98.35%\n",
            "val Loss: 0.0521 Acc: 98.87%\n",
            "Epoch 23/49\n",
            "----------\n",
            "train Loss: 0.0451 Acc: 98.45%\n",
            "val Loss: 0.0506 Acc: 98.82%\n",
            "Epoch 24/49\n",
            "----------\n",
            "train Loss: 0.0457 Acc: 98.47%\n",
            "val Loss: 0.0475 Acc: 98.94%\n",
            "Epoch 25/49\n",
            "----------\n",
            "train Loss: 0.0461 Acc: 98.44%\n",
            "val Loss: 0.0483 Acc: 98.91%\n",
            "Epoch 26/49\n",
            "----------\n",
            "train Loss: 0.0427 Acc: 98.49%\n",
            "val Loss: 0.0486 Acc: 98.93%\n",
            "Epoch 27/49\n",
            "----------\n",
            "train Loss: 0.0429 Acc: 98.50%\n",
            "val Loss: 0.0534 Acc: 98.87%\n",
            "Epoch 28/49\n",
            "----------\n",
            "train Loss: 0.0431 Acc: 98.51%\n",
            "val Loss: 0.0531 Acc: 98.90%\n",
            "Epoch 29/49\n",
            "----------\n",
            "train Loss: 0.0437 Acc: 98.59%\n",
            "val Loss: 0.0506 Acc: 98.92%\n",
            "Epoch 30/49\n",
            "----------\n",
            "train Loss: 0.0441 Acc: 98.50%\n",
            "val Loss: 0.0558 Acc: 98.83%\n",
            "Epoch 31/49\n",
            "----------\n",
            "train Loss: 0.0415 Acc: 98.62%\n",
            "val Loss: 0.0542 Acc: 98.85%\n",
            "Epoch 32/49\n",
            "----------\n",
            "train Loss: 0.0391 Acc: 98.64%\n",
            "val Loss: 0.0543 Acc: 98.89%\n",
            "Epoch 33/49\n",
            "----------\n",
            "train Loss: 0.0419 Acc: 98.60%\n",
            "val Loss: 0.0597 Acc: 98.89%\n",
            "Epoch 34/49\n",
            "----------\n",
            "train Loss: 0.0389 Acc: 98.64%\n",
            "val Loss: 0.0510 Acc: 98.97%\n",
            "Epoch 35/49\n",
            "----------\n",
            "train Loss: 0.0401 Acc: 98.64%\n",
            "val Loss: 0.0564 Acc: 98.77%\n",
            "Epoch 36/49\n",
            "----------\n",
            "train Loss: 0.0420 Acc: 98.53%\n",
            "val Loss: 0.0505 Acc: 98.89%\n",
            "Epoch 37/49\n",
            "----------\n",
            "train Loss: 0.0393 Acc: 98.63%\n",
            "val Loss: 0.0609 Acc: 98.76%\n",
            "Epoch 38/49\n",
            "----------\n",
            "train Loss: 0.0416 Acc: 98.62%\n",
            "val Loss: 0.0595 Acc: 98.88%\n",
            "Epoch 39/49\n",
            "----------\n",
            "train Loss: 0.0363 Acc: 98.69%\n",
            "val Loss: 0.0593 Acc: 98.90%\n",
            "Epoch 40/49\n",
            "----------\n",
            "train Loss: 0.0384 Acc: 98.64%\n",
            "val Loss: 0.0611 Acc: 98.89%\n",
            "Epoch 41/49\n",
            "----------\n",
            "train Loss: 0.0409 Acc: 98.66%\n",
            "val Loss: 0.0650 Acc: 98.78%\n",
            "Epoch 42/49\n",
            "----------\n",
            "train Loss: 0.0376 Acc: 98.69%\n",
            "val Loss: 0.0617 Acc: 98.78%\n",
            "Epoch 43/49\n",
            "----------\n",
            "train Loss: 0.0346 Acc: 98.83%\n",
            "val Loss: 0.0609 Acc: 98.96%\n",
            "Epoch 44/49\n",
            "----------\n",
            "train Loss: 0.0370 Acc: 98.78%\n",
            "val Loss: 0.0660 Acc: 98.83%\n",
            "Epoch 45/49\n",
            "----------\n",
            "train Loss: 0.0357 Acc: 98.82%\n",
            "val Loss: 0.0624 Acc: 98.93%\n",
            "Epoch 46/49\n",
            "----------\n",
            "train Loss: 0.0374 Acc: 98.76%\n",
            "val Loss: 0.0633 Acc: 98.80%\n",
            "Epoch 47/49\n",
            "----------\n",
            "train Loss: 0.0365 Acc: 98.76%\n",
            "val Loss: 0.0594 Acc: 98.91%\n",
            "Epoch 48/49\n",
            "----------\n",
            "train Loss: 0.0364 Acc: 98.71%\n",
            "val Loss: 0.0648 Acc: 98.83%\n",
            "Epoch 49/49\n",
            "----------\n",
            "train Loss: 0.0347 Acc: 98.83%\n",
            "val Loss: 0.0657 Acc: 98.83%\n",
            "Training complete in 16m 9s\n"
          ]
        }
      ]
    },
    {
      "cell_type": "code",
      "source": [
        "model.load_state_dict(best_model_wts)\n",
        "\n",
        "TestLoader = loader['test']\n",
        "\n",
        "def test_model_gpu(model, loss_fn):\n",
        "\n",
        "    model.eval()\n",
        "\n",
        "    running_loss = 0.0\n",
        "    running_corrects = 0\n",
        "    for input, label in loader['test']:\n",
        "      input = input.to(device)\n",
        "      label = label.to(device)\n",
        "      output = model(input)\n",
        "      loss = loss_fn(output, label)\n",
        "      _, preds = torch.max(output, 1)\n",
        "      running_loss += loss.item() * inputs.size(0)\n",
        "      acc = torch.sum(preds == labels.data)\n",
        "      acc = acc.to('cpu')\n",
        "      running_corrects += acc\n",
        "    loss_global = running_loss / dataset_sizes['test']\n",
        "    acc_global = running_corrects.double() / dataset_sizes['test']\n",
        "    return loss_global, acc_global\n",
        "\n",
        "loss_global, acc_global = test_model_gpu(model, loss_fn)\n",
        "\n",
        "print(loss_global)\n",
        "print(acc_global)"
      ],
      "metadata": {
        "id": "-32wT1Sqw4dZ",
        "outputId": "75735309-db22-46ec-f4a6-34b5a8fab767",
        "colab": {
          "base_uri": "https://localhost:8080/",
          "height": 635
        }
      },
      "execution_count": 53,
      "outputs": [
        {
          "output_type": "error",
          "ename": "TypeError",
          "evalue": "ignored",
          "traceback": [
            "\u001b[0;31m---------------------------------------------------------------------------\u001b[0m",
            "\u001b[0;31mTypeError\u001b[0m                                 Traceback (most recent call last)",
            "\u001b[0;32m<ipython-input-53-09b8b30d0516>\u001b[0m in \u001b[0;36m<cell line: 5>\u001b[0;34m()\u001b[0m\n\u001b[1;32m      3\u001b[0m \u001b[0mTestLoader\u001b[0m \u001b[0;34m=\u001b[0m \u001b[0mloader\u001b[0m\u001b[0;34m[\u001b[0m\u001b[0;34m'test'\u001b[0m\u001b[0;34m]\u001b[0m\u001b[0;34m\u001b[0m\u001b[0;34m\u001b[0m\u001b[0m\n\u001b[1;32m      4\u001b[0m \u001b[0;34m\u001b[0m\u001b[0m\n\u001b[0;32m----> 5\u001b[0;31m \u001b[0minput\u001b[0m\u001b[0;34m,\u001b[0m \u001b[0mlabel\u001b[0m \u001b[0;34m=\u001b[0m \u001b[0mnext\u001b[0m\u001b[0;34m(\u001b[0m\u001b[0miter\u001b[0m\u001b[0;34m(\u001b[0m\u001b[0mTestLoader\u001b[0m\u001b[0;34m)\u001b[0m\u001b[0;34m)\u001b[0m\u001b[0;34m\u001b[0m\u001b[0;34m\u001b[0m\u001b[0m\n\u001b[0m\u001b[1;32m      6\u001b[0m \u001b[0;34m\u001b[0m\u001b[0m\n\u001b[1;32m      7\u001b[0m \u001b[0;32mdef\u001b[0m \u001b[0mtest_model_gpu\u001b[0m\u001b[0;34m(\u001b[0m\u001b[0mmodel\u001b[0m\u001b[0;34m,\u001b[0m \u001b[0mloss_fn\u001b[0m\u001b[0;34m)\u001b[0m\u001b[0;34m:\u001b[0m\u001b[0;34m\u001b[0m\u001b[0;34m\u001b[0m\u001b[0m\n",
            "\u001b[0;32m/usr/local/lib/python3.10/dist-packages/torch/utils/data/dataloader.py\u001b[0m in \u001b[0;36m__next__\u001b[0;34m(self)\u001b[0m\n\u001b[1;32m    628\u001b[0m                 \u001b[0;31m# TODO(https://github.com/pytorch/pytorch/issues/76750)\u001b[0m\u001b[0;34m\u001b[0m\u001b[0;34m\u001b[0m\u001b[0m\n\u001b[1;32m    629\u001b[0m                 \u001b[0mself\u001b[0m\u001b[0;34m.\u001b[0m\u001b[0m_reset\u001b[0m\u001b[0;34m(\u001b[0m\u001b[0;34m)\u001b[0m  \u001b[0;31m# type: ignore[call-arg]\u001b[0m\u001b[0;34m\u001b[0m\u001b[0;34m\u001b[0m\u001b[0m\n\u001b[0;32m--> 630\u001b[0;31m             \u001b[0mdata\u001b[0m \u001b[0;34m=\u001b[0m \u001b[0mself\u001b[0m\u001b[0;34m.\u001b[0m\u001b[0m_next_data\u001b[0m\u001b[0;34m(\u001b[0m\u001b[0;34m)\u001b[0m\u001b[0;34m\u001b[0m\u001b[0;34m\u001b[0m\u001b[0m\n\u001b[0m\u001b[1;32m    631\u001b[0m             \u001b[0mself\u001b[0m\u001b[0;34m.\u001b[0m\u001b[0m_num_yielded\u001b[0m \u001b[0;34m+=\u001b[0m \u001b[0;36m1\u001b[0m\u001b[0;34m\u001b[0m\u001b[0;34m\u001b[0m\u001b[0m\n\u001b[1;32m    632\u001b[0m             \u001b[0;32mif\u001b[0m \u001b[0mself\u001b[0m\u001b[0;34m.\u001b[0m\u001b[0m_dataset_kind\u001b[0m \u001b[0;34m==\u001b[0m \u001b[0m_DatasetKind\u001b[0m\u001b[0;34m.\u001b[0m\u001b[0mIterable\u001b[0m \u001b[0;32mand\u001b[0m\u001b[0;31m \u001b[0m\u001b[0;31m\\\u001b[0m\u001b[0;34m\u001b[0m\u001b[0;34m\u001b[0m\u001b[0m\n",
            "\u001b[0;32m/usr/local/lib/python3.10/dist-packages/torch/utils/data/dataloader.py\u001b[0m in \u001b[0;36m_next_data\u001b[0;34m(self)\u001b[0m\n\u001b[1;32m   1343\u001b[0m             \u001b[0;32melse\u001b[0m\u001b[0;34m:\u001b[0m\u001b[0;34m\u001b[0m\u001b[0;34m\u001b[0m\u001b[0m\n\u001b[1;32m   1344\u001b[0m                 \u001b[0;32mdel\u001b[0m \u001b[0mself\u001b[0m\u001b[0;34m.\u001b[0m\u001b[0m_task_info\u001b[0m\u001b[0;34m[\u001b[0m\u001b[0midx\u001b[0m\u001b[0;34m]\u001b[0m\u001b[0;34m\u001b[0m\u001b[0;34m\u001b[0m\u001b[0m\n\u001b[0;32m-> 1345\u001b[0;31m                 \u001b[0;32mreturn\u001b[0m \u001b[0mself\u001b[0m\u001b[0;34m.\u001b[0m\u001b[0m_process_data\u001b[0m\u001b[0;34m(\u001b[0m\u001b[0mdata\u001b[0m\u001b[0;34m)\u001b[0m\u001b[0;34m\u001b[0m\u001b[0;34m\u001b[0m\u001b[0m\n\u001b[0m\u001b[1;32m   1346\u001b[0m \u001b[0;34m\u001b[0m\u001b[0m\n\u001b[1;32m   1347\u001b[0m     \u001b[0;32mdef\u001b[0m \u001b[0m_try_put_index\u001b[0m\u001b[0;34m(\u001b[0m\u001b[0mself\u001b[0m\u001b[0;34m)\u001b[0m\u001b[0;34m:\u001b[0m\u001b[0;34m\u001b[0m\u001b[0;34m\u001b[0m\u001b[0m\n",
            "\u001b[0;32m/usr/local/lib/python3.10/dist-packages/torch/utils/data/dataloader.py\u001b[0m in \u001b[0;36m_process_data\u001b[0;34m(self, data)\u001b[0m\n\u001b[1;32m   1369\u001b[0m         \u001b[0mself\u001b[0m\u001b[0;34m.\u001b[0m\u001b[0m_try_put_index\u001b[0m\u001b[0;34m(\u001b[0m\u001b[0;34m)\u001b[0m\u001b[0;34m\u001b[0m\u001b[0;34m\u001b[0m\u001b[0m\n\u001b[1;32m   1370\u001b[0m         \u001b[0;32mif\u001b[0m \u001b[0misinstance\u001b[0m\u001b[0;34m(\u001b[0m\u001b[0mdata\u001b[0m\u001b[0;34m,\u001b[0m \u001b[0mExceptionWrapper\u001b[0m\u001b[0;34m)\u001b[0m\u001b[0;34m:\u001b[0m\u001b[0;34m\u001b[0m\u001b[0;34m\u001b[0m\u001b[0m\n\u001b[0;32m-> 1371\u001b[0;31m             \u001b[0mdata\u001b[0m\u001b[0;34m.\u001b[0m\u001b[0mreraise\u001b[0m\u001b[0;34m(\u001b[0m\u001b[0;34m)\u001b[0m\u001b[0;34m\u001b[0m\u001b[0;34m\u001b[0m\u001b[0m\n\u001b[0m\u001b[1;32m   1372\u001b[0m         \u001b[0;32mreturn\u001b[0m \u001b[0mdata\u001b[0m\u001b[0;34m\u001b[0m\u001b[0;34m\u001b[0m\u001b[0m\n\u001b[1;32m   1373\u001b[0m \u001b[0;34m\u001b[0m\u001b[0m\n",
            "\u001b[0;32m/usr/local/lib/python3.10/dist-packages/torch/_utils.py\u001b[0m in \u001b[0;36mreraise\u001b[0;34m(self)\u001b[0m\n\u001b[1;32m    692\u001b[0m             \u001b[0;31m# instantiate since we don't know how to\u001b[0m\u001b[0;34m\u001b[0m\u001b[0;34m\u001b[0m\u001b[0m\n\u001b[1;32m    693\u001b[0m             \u001b[0;32mraise\u001b[0m \u001b[0mRuntimeError\u001b[0m\u001b[0;34m(\u001b[0m\u001b[0mmsg\u001b[0m\u001b[0;34m)\u001b[0m \u001b[0;32mfrom\u001b[0m \u001b[0;32mNone\u001b[0m\u001b[0;34m\u001b[0m\u001b[0;34m\u001b[0m\u001b[0m\n\u001b[0;32m--> 694\u001b[0;31m         \u001b[0;32mraise\u001b[0m \u001b[0mexception\u001b[0m\u001b[0;34m\u001b[0m\u001b[0;34m\u001b[0m\u001b[0m\n\u001b[0m\u001b[1;32m    695\u001b[0m \u001b[0;34m\u001b[0m\u001b[0m\n\u001b[1;32m    696\u001b[0m \u001b[0;34m\u001b[0m\u001b[0m\n",
            "\u001b[0;31mTypeError\u001b[0m: Caught TypeError in DataLoader worker process 0.\nOriginal Traceback (most recent call last):\n  File \"/usr/local/lib/python3.10/dist-packages/torch/utils/data/_utils/worker.py\", line 308, in _worker_loop\n    data = fetcher.fetch(index)\n  File \"/usr/local/lib/python3.10/dist-packages/torch/utils/data/_utils/fetch.py\", line 54, in fetch\n    return self.collate_fn(data)\n  File \"/usr/local/lib/python3.10/dist-packages/torch/utils/data/_utils/collate.py\", line 265, in default_collate\n    return collate(batch, collate_fn_map=default_collate_fn_map)\n  File \"/usr/local/lib/python3.10/dist-packages/torch/utils/data/_utils/collate.py\", line 142, in collate\n    return [collate(samples, collate_fn_map=collate_fn_map) for samples in transposed]  # Backwards compatibility.\n  File \"/usr/local/lib/python3.10/dist-packages/torch/utils/data/_utils/collate.py\", line 142, in <listcomp>\n    return [collate(samples, collate_fn_map=collate_fn_map) for samples in transposed]  # Backwards compatibility.\n  File \"/usr/local/lib/python3.10/dist-packages/torch/utils/data/_utils/collate.py\", line 150, in collate\n    raise TypeError(default_collate_err_msg_format.format(elem_type))\nTypeError: default_collate: batch must contain tensors, numpy arrays, numbers, dicts or lists; found <class 'PIL.Image.Image'>\n"
          ]
        }
      ]
    },
    {
      "cell_type": "markdown",
      "metadata": {
        "id": "GhGIdbGx1oRn"
      },
      "source": [
        "**Question 8** Quel est l'effet de la fonction suivante sur un batch de cibles ?"
      ]
    },
    {
      "cell_type": "code",
      "execution_count": 55,
      "metadata": {
        "id": "OiZuZ2_p1xY2",
        "outputId": "0e959a3c-7b2e-47e4-e9c6-1159d5496c33",
        "colab": {
          "base_uri": "https://localhost:8080/"
        }
      },
      "outputs": [
        {
          "output_type": "stream",
          "name": "stdout",
          "text": [
            "tensor([2, 7, 8, 9, 6, 1, 4, 1, 0, 5, 4, 6, 4, 4, 0, 2, 7, 8, 5, 2, 5, 7, 8, 7,\n",
            "        5, 9, 7, 3, 3, 0, 5, 6], device='cuda:0')\n",
            "tensor([ True,  True, False, False, False,  True, False, False,  True,  True,\n",
            "        False,  True,  True,  True, False, False,  True,  True,  True, False,\n",
            "        False, False,  True,  True, False, False,  True,  True,  True,  True,\n",
            "         True, False])\n",
            "tensor([0, 4, 8, 9, 6, 5, 4, 1, 1, 2, 4, 0, 3, 4, 0, 2, 4, 3, 8, 2, 5, 7, 4, 7,\n",
            "        5, 9, 0, 7, 8, 1, 7, 6], device='cuda:0')\n"
          ]
        }
      ],
      "source": [
        "def flipping_label(labels, p):\n",
        "  #Sélection aléatoire des composantes\n",
        "  flip_probas = p * torch.ones(labels.shape)\n",
        "  flip_or_not = torch.bernoulli(flip_probas) == 1\n",
        "  print(flip_or_not)\n",
        "  random_labels = torch.randint(0,10,labels.shape).to(device)\n",
        "  labels[flip_or_not] = random_labels[flip_or_not]\n",
        "\n",
        "\n",
        "\n",
        "labels = torch.randint(0,10,(32,)).to(device)\n",
        "print(labels)\n",
        "\n",
        "# niveau de bruit :\n",
        "p = 0.5\n",
        "\n",
        "# Après bruitage :\n",
        "flipping_label(labels, p)\n",
        "print(labels)"
      ]
    },
    {
      "cell_type": "markdown",
      "source": [
        "La fonction permet de changer la cible avec une probabilité un demi, c'est-à-dire q'une cible a une chance sur deux de voir sa valeur changer selon une loi uniforme sur 0 à 9"
      ],
      "metadata": {
        "id": "7Xy3s-YCElza"
      }
    },
    {
      "cell_type": "markdown",
      "metadata": {
        "id": "-5gWTBWgt9O0"
      },
      "source": [
        "**Question 9** Définir une procédure d'entraînement \"bruitée\" à partir de flipping_labels() (ne bruiter que la phase d'entraînement). Quel est l'effet sur les performances en fonction du niveau de bruit ?"
      ]
    },
    {
      "cell_type": "code",
      "source": [
        "def train_model_gpu_proba(model, loss_fn, optimizer, num_epochs=1, p):\n",
        "    # Record the starting time\n",
        "    since = time.time()\n",
        "\n",
        "    best_val_acc = 0\n",
        "    # Loop through epochs\n",
        "    for epoch in range(num_epochs):\n",
        "        print(f'Epoch {epoch}/{num_epochs - 1}')\n",
        "        print('-' * 10)\n",
        "\n",
        "        # Iterate through training and validation phases\n",
        "        for phase in ['train', 'val']:\n",
        "            # Set the model to training mode during the training phase, and evaluation mode during validation\n",
        "            if phase == 'train':\n",
        "                model.train()\n",
        "            else:\n",
        "                model.eval()\n",
        "\n",
        "            # Initialize counters for loss and correct predictions\n",
        "            running_loss = 0.0\n",
        "            running_corrects = 0\n",
        "\n",
        "            # Iterate through batches in the data loader\n",
        "            for inputs, labels in loader[phase]:\n",
        "                # Move inputs and labels to the specified device (GPU)\n",
        "                ### BEGIN SOLUTION\n",
        "                inputs = inputs.to(device)\n",
        "                flipping_label(labels, p)\n",
        "                ### END SOLUTION\n",
        "\n",
        "                # Zero the gradients in the optimizer (same as in train_model())\n",
        "                ### BEGIN SOLUTION\n",
        "                optimizer.zero_grad()\n",
        "                ### END SOLUTION\n",
        "                # Forward pass: compute model outputs and predictions (same as in train_model())\n",
        "                with torch.set_grad_enabled(phase == 'train'):\n",
        "                    ### BEGIN SOLUTION\n",
        "                    outputs = model(inputs)\n",
        "                    _, preds = torch.max(outputs, 1)\n",
        "                    loss = loss_fn(outputs, labels)\n",
        "                    ### END SOLUTION\n",
        "                    # Backward pass and optimization step if in the training phase (same as in train_model())\n",
        "                    ### BEGIN SOLUTION\n",
        "                    if phase == 'train':\n",
        "                        loss.backward()\n",
        "                        optimizer.step()\n",
        "                    ### END SOLUTION\n",
        "                # Update counters\n",
        "                running_loss += loss.item() * inputs.size(0)\n",
        "                acc = torch.sum(preds == labels.data)\n",
        "                # The 'acc' tensor is distributed across different parts of the GPU\n",
        "                # Gather the 'acc' tensor on the CPU before accumulation\n",
        "                # running_corrects += ...\n",
        "                ### BEGIN SOLUTION\n",
        "                running_corrects += acc.cpu()\n",
        "                ### END SOLUTION\n",
        "\n",
        "            # Calculate average loss and accuracy for the epoch\n",
        "            epoch_loss = running_loss / dataset_sizes[phase]\n",
        "            epoch_acc = running_corrects.double() / dataset_sizes[phase]\n",
        "\n",
        "            # At the end of each epoch, save the best model:\n",
        "            if phase == \"val\" and epoch_acc > best_val_acc:\n",
        "              best_model_wts = copy.deepcopy(model.state_dict())\n",
        "\n",
        "            # Print epoch statistics\n",
        "            print(f'{phase} Loss: {epoch_loss:.4f} Acc: {100*epoch_acc:.2f}%')\n",
        "\n",
        "    # Calculate and print the total training time\n",
        "    time_elapsed = time.time() - since\n",
        "    print(f'Training complete in {time_elapsed // 60:.0f}m {time_elapsed % 60:.0f}s')\n",
        "    # Return the trained model\n",
        "    return model\n",
        "\n",
        "\n",
        "model = CNN()\n",
        "model = model.to(device)\n",
        "optimizer = torch.optim.Adam(model.parameters(), lr=0.001)\n",
        "loss_fn =  nn.CrossEntropyLoss()\n",
        "\n",
        "model = train_model_gpu_proba(model, loss_fn, optimizer, num_epochs=50, p = 0.5)"
      ],
      "metadata": {
        "id": "VzDVUqYzFjOb",
        "outputId": "d4d82975-9997-4d14-e2df-c5a395b102be",
        "colab": {
          "base_uri": "https://localhost:8080/",
          "height": 142
        }
      },
      "execution_count": 58,
      "outputs": [
        {
          "output_type": "error",
          "ename": "SyntaxError",
          "evalue": "ignored",
          "traceback": [
            "\u001b[0;36m  File \u001b[0;32m\"<ipython-input-58-190c00ff7b3a>\"\u001b[0;36m, line \u001b[0;32m1\u001b[0m\n\u001b[0;31m    def train_model_gpu_proba(model, loss_fn, optimizer, num_epochs=1, p):\u001b[0m\n\u001b[0m                                                                       ^\u001b[0m\n\u001b[0;31mSyntaxError\u001b[0m\u001b[0;31m:\u001b[0m non-default argument follows default argument\n"
          ]
        }
      ]
    },
    {
      "cell_type": "markdown",
      "metadata": {
        "id": "NA8klyqT7w7c"
      },
      "source": [
        "**Problème 2** Le chat perturbé\n",
        "\n",
        "\n",
        "Reprendre l'image de chat du TP2 et la bruiter de manière à ce que :\n",
        "- le chat soit encore parfaitement reconnaissable\n",
        "- le VGG16 vu au TP2 se trompe complètement de classe.\n",
        "\n",
        "Vous pourrez par exemple dégrader la résolution et modifier localement la valeur de certains pixels. En vous renseignant un peu sur les \"attaques adversariales\", vous verrez comment aborder le problème par des techniques d'optimisation bien choisies. \\\\\n",
        "L'image \"disrupted_cat.jpg\" du répertoire \"exercises\" fournit un exemple de solution. Les cellules ci-dessous permettent de le vérifier."
      ]
    },
    {
      "cell_type": "code",
      "execution_count": null,
      "metadata": {
        "colab": {
          "base_uri": "https://localhost:8080/"
        },
        "id": "1a5xCu_O_FCn",
        "outputId": "30300fc6-c9ef-44ee-ebfc-e1078eaead24"
      },
      "outputs": [
        {
          "output_type": "stream",
          "name": "stdout",
          "text": [
            "Mounted at /content/drive\n"
          ]
        }
      ],
      "source": [
        "from google.colab import drive\n",
        "drive.mount('/content/drive')"
      ]
    },
    {
      "cell_type": "code",
      "execution_count": null,
      "metadata": {
        "id": "0bgOmbQOK5C7"
      },
      "outputs": [],
      "source": [
        "import torch\n",
        "import torch.nn as nn\n",
        "import matplotlib.pyplot as plt\n",
        "import numpy as np\n",
        "from torchvision import models\n",
        "\n",
        "model = models.vgg16(pretrained=True)\n",
        "model = model.cuda()\n",
        "softmx = nn.Softmax(dim=1).cuda()\n",
        "model.eval()\n"
      ]
    },
    {
      "cell_type": "code",
      "execution_count": null,
      "metadata": {
        "id": "XlOFTHwj_fOZ"
      },
      "outputs": [],
      "source": [
        "def imshow(inp, title=None, save_path=None):\n",
        "    if save_path is not None:\n",
        "        torch.save(inp, save_path)\n",
        "    inp = inp.numpy().transpose((1, 2, 0))\n",
        "    mean = np.array([0.485, 0.456, 0.406])\n",
        "    std = np.array([0.229, 0.224, 0.225])\n",
        "    inp = std * inp + mean\n",
        "    inp = np.clip(inp, 0, 1)\n",
        "    plt.imshow(inp)\n",
        "    if title is not None:\n",
        "        plt.title(title)"
      ]
    },
    {
      "cell_type": "code",
      "execution_count": null,
      "metadata": {
        "colab": {
          "base_uri": "https://localhost:8080/",
          "height": 285
        },
        "id": "wNi8jykKiLvR",
        "outputId": "fdd8540c-082e-45c6-8fad-d307d08102ea"
      },
      "outputs": [
        {
          "output_type": "stream",
          "name": "stdout",
          "text": [
            "classe prédite : 333 (hamster)\n"
          ]
        },
        {
          "output_type": "display_data",
          "data": {
            "text/plain": [
              "<Figure size 432x288 with 1 Axes>"
            ],
            "image/png": "[encoded data removed]"
          },
          "metadata": {
            "needs_background": "light"
          }
        }
      ],
      "source": [
        "## Après optimisation voici une configuration qui arrive à tromper le modèle\n",
        "path = 'Ou/est/disrupted_cat.jpg'\n",
        "dcat = torch.load(path)\n",
        "imshow(dcat)\n",
        "\n",
        "dcat = dcat.unsqueeze(dim=0).cuda()\n",
        "output_dcat = softmx(model(dcat)).squeeze(dim=0)\n",
        "pred_dcat = torch.max(output_dcat, dim=0)[1].item()\n",
        "print(\"classe prédite : \" + str(pred_dcat) + \" (hamster)\")"
      ]
    }
  ],
  "metadata": {
    "accelerator": "GPU",
    "colab": {
      "provenance": []
    },
    "gpuClass": "standard",
    "kernelspec": {
      "display_name": "Python 3",
      "name": "python3"
    }
  },
  "nbformat": 4,
  "nbformat_minor": 0
}