{
  "cells": [
    {
      "cell_type": "markdown",
      "metadata": {
        "id": "_CACBFsndOCo"
      },
      "source": [
        "**Fiche d'exercice n°1**\n",
        "\n",
        "Cette fiche d'exercices doit permettre de :\n",
        "- s'entraîner au devoir de janvier\n",
        "- compléter votre culture dans le domaine\n",
        "\n",
        "La correction sera mise à disposition autour du 11/11."
      ]
    },
    {
      "cell_type": "markdown",
      "metadata": {
        "id": "t5RcggmAkJLV"
      },
      "source": [
        "**Question 1** Nous avons vu qu'il était impossible de séparer les nuages de points du TP1/partie I/B avec un perceptron une couche. Mais c'est parce que nous nous sommes limités à deux prédicteurs, l'abscisse $x$ et l'ordonnée $y$. Quels autres prédicteurs peut-on utiliser pour résoudre le problème sans ajouter de couches au perceptron ?\n",
        "  "
      ]
    },
    {
      "cell_type": "markdown",
      "source": [
        "Les prédicteurs que nous pouvons également utiliser seraient une combinaison linéaire des deux premiers. Par exemple, la somme de x et y."
      ],
      "metadata": {
        "id": "1ffltojcYmHG"
      }
    },
    {
      "cell_type": "markdown",
      "metadata": {
        "id": "p4B0YORSkz1G"
      },
      "source": [
        "**Question 2** A quel modèle statistique correspond un perceptron à une couche avec une fonction d'activation sigmoïde ?\n",
        "Citer une bibliothèque python qui permet d'appliquer ce modèle à un jeu de données."
      ]
    },
    {
      "cell_type": "markdown",
      "source": [
        "pytorch bibliothèque permettant d'appliquer ce modèle"
      ],
      "metadata": {
        "id": "fPBCBrPZY97d"
      }
    },
    {
      "cell_type": "markdown",
      "metadata": {
        "id": "EUCeXqO7icjq"
      },
      "source": [
        "**Question 3** Combien un VGG16 contient-il de paramètres dans les couches de convolutions ? Dans les couches complètement connectées ?\n",
        "Appuyer par un bout de code."
      ]
    },
    {
      "cell_type": "code",
      "source": [
        "import matplotlib.pyplot as plt\n",
        "import numpy as np\n",
        "import os\n",
        "\n",
        "import torch\n",
        "import torch.nn as nn   # pre-defined layers\n",
        "\n",
        "from torch.utils.data import Dataset, DataLoader\n",
        "\n",
        "# to load pre-trained models on ImageNet:\n",
        "import torchvision\n",
        "from torchvision import datasets, models, transforms\n",
        "\n",
        "model = models.vgg16(weights='IMAGENET1K_V1')\n",
        "print(model)\n",
        "\n",
        "conv_weights = 0\n",
        "\n",
        "linear_weights = 0\n",
        "\n",
        "for module in model.modules():\n",
        "  if isinstance(module, nn.Conv2d):\n",
        "    for parameter in module.parameters():\n",
        "      conv_weights += torch.numel(parameter)\n",
        "  if isinstance(module, nn.Linear):\n",
        "    for parameter in module.parameters():\n",
        "      linear_weights += torch.numel(parameter)\n",
        "\n",
        "print(conv_weights)\n",
        "print(linear_weights)\n"
      ],
      "metadata": {
        "id": "kJYLstZba9dN",
        "outputId": "e62b62c2-3e28-48ef-fd43-8a2c51c6116b",
        "colab": {
          "base_uri": "https://localhost:8080/"
        }
      },
      "execution_count": 4,
      "outputs": [
        {
          "output_type": "stream",
          "name": "stdout",
          "text": [
            "VGG(\n",
            "  (features): Sequential(\n",
            "    (0): Conv2d(3, 64, kernel_size=(3, 3), stride=(1, 1), padding=(1, 1))\n",
            "    (1): ReLU(inplace=True)\n",
            "    (2): Conv2d(64, 64, kernel_size=(3, 3), stride=(1, 1), padding=(1, 1))\n",
            "    (3): ReLU(inplace=True)\n",
            "    (4): MaxPool2d(kernel_size=2, stride=2, padding=0, dilation=1, ceil_mode=False)\n",
            "    (5): Conv2d(64, 128, kernel_size=(3, 3), stride=(1, 1), padding=(1, 1))\n",
            "    (6): ReLU(inplace=True)\n",
            "    (7): Conv2d(128, 128, kernel_size=(3, 3), stride=(1, 1), padding=(1, 1))\n",
            "    (8): ReLU(inplace=True)\n",
            "    (9): MaxPool2d(kernel_size=2, stride=2, padding=0, dilation=1, ceil_mode=False)\n",
            "    (10): Conv2d(128, 256, kernel_size=(3, 3), stride=(1, 1), padding=(1, 1))\n",
            "    (11): ReLU(inplace=True)\n",
            "    (12): Conv2d(256, 256, kernel_size=(3, 3), stride=(1, 1), padding=(1, 1))\n",
            "    (13): ReLU(inplace=True)\n",
            "    (14): Conv2d(256, 256, kernel_size=(3, 3), stride=(1, 1), padding=(1, 1))\n",
            "    (15): ReLU(inplace=True)\n",
            "    (16): MaxPool2d(kernel_size=2, stride=2, padding=0, dilation=1, ceil_mode=False)\n",
            "    (17): Conv2d(256, 512, kernel_size=(3, 3), stride=(1, 1), padding=(1, 1))\n",
            "    (18): ReLU(inplace=True)\n",
            "    (19): Conv2d(512, 512, kernel_size=(3, 3), stride=(1, 1), padding=(1, 1))\n",
            "    (20): ReLU(inplace=True)\n",
            "    (21): Conv2d(512, 512, kernel_size=(3, 3), stride=(1, 1), padding=(1, 1))\n",
            "    (22): ReLU(inplace=True)\n",
            "    (23): MaxPool2d(kernel_size=2, stride=2, padding=0, dilation=1, ceil_mode=False)\n",
            "    (24): Conv2d(512, 512, kernel_size=(3, 3), stride=(1, 1), padding=(1, 1))\n",
            "    (25): ReLU(inplace=True)\n",
            "    (26): Conv2d(512, 512, kernel_size=(3, 3), stride=(1, 1), padding=(1, 1))\n",
            "    (27): ReLU(inplace=True)\n",
            "    (28): Conv2d(512, 512, kernel_size=(3, 3), stride=(1, 1), padding=(1, 1))\n",
            "    (29): ReLU(inplace=True)\n",
            "    (30): MaxPool2d(kernel_size=2, stride=2, padding=0, dilation=1, ceil_mode=False)\n",
            "  )\n",
            "  (avgpool): AdaptiveAvgPool2d(output_size=(7, 7))\n",
            "  (classifier): Sequential(\n",
            "    (0): Linear(in_features=25088, out_features=4096, bias=True)\n",
            "    (1): ReLU(inplace=True)\n",
            "    (2): Dropout(p=0.5, inplace=False)\n",
            "    (3): Linear(in_features=4096, out_features=4096, bias=True)\n",
            "    (4): ReLU(inplace=True)\n",
            "    (5): Dropout(p=0.5, inplace=False)\n",
            "    (6): Linear(in_features=4096, out_features=1000, bias=True)\n",
            "  )\n",
            ")\n",
            "14714688\n",
            "123642856\n"
          ]
        }
      ]
    },
    {
      "cell_type": "markdown",
      "metadata": {
        "id": "sjBFb83GmuEY"
      },
      "source": [
        "**Question 4** Visualiser la première couche d'un VGG entraîné sur ImageNet. Commenter."
      ]
    },
    {
      "cell_type": "code",
      "source": [
        "first_layer = model.features[0].weight.data\n",
        "print(first_layer.shape)\n",
        "plt.figure(figsize=(15, 15))\n",
        "for i in range(first_layer.shape[0]):\n",
        "    plt.subplot(8, 8, i+1) #\n",
        "    plt.imshow(first_layer[i, 1, :, :], cmap='seismic')\n",
        "    plt.axis('off')\n",
        "plt.show()"
      ],
      "metadata": {
        "id": "IInv08pzdjAK",
        "outputId": "d1059f35-e365-4c23-c92b-55b160befcf4",
        "colab": {
          "base_uri": "https://localhost:8080/",
          "height": 1000
        }
      },
      "execution_count": 7,
      "outputs": [
        {
          "output_type": "stream",
          "name": "stdout",
          "text": [
            "torch.Size([64, 3, 3, 3])\n"
          ]
        },
        {
          "output_type": "display_data",
          "data": {
            "text/plain": [
              "<Figure size 1500x1500 with 64 Axes>"
            ],
            "image/png": "[encoded data removed]"
          },
          "metadata": {}
        }
      ]
    },
    {
      "cell_type": "markdown",
      "source": [
        "Extracteurs de contours et détecteurs de particularités (lignes...)"
      ],
      "metadata": {
        "id": "7j0o9RTIh7IX"
      }
    },
    {
      "cell_type": "markdown",
      "metadata": {
        "id": "hfcRiTA2mzrp"
      },
      "source": [
        "**Question 5** Quel est l'effet d'un dropout sur les couches complètement connectées ? Illustrer sur un perceptron à une couche avec quelques lignes de codes."
      ]
    },
    {
      "cell_type": "markdown",
      "source": [
        "Le dropout permet de geler certains neurones pour éviter le surapprentissage."
      ],
      "metadata": {
        "id": "sfhK7k4diYtd"
      }
    },
    {
      "cell_type": "code",
      "source": [
        "import torch.nn.functional as F\n",
        "\n",
        "class P1(nn.Module):\n",
        "\n",
        "    def __init__(self):\n",
        "        super(P1, self).__init__()\n",
        "        self.fc = nn.Linear(2, 1)\n",
        "\n",
        "    def forward(self, x):\n",
        "        # Dot product and bias\n",
        "        x = self.fc(x)\n",
        "        # Activation\n",
        "        x = x.sigmoid()\n",
        "        x = F.dropout(x, training=self.training)\n",
        "        # Vector of \"probabilities\" (cat: concatenation)\n",
        "        x = torch.cat((x, 1 - x), dim=1)\n",
        "        return x\n",
        "\n",
        "\n",
        "def linear(x):\n",
        "  return nn.Linear(5, 3)(x)\n",
        "\n",
        "def dp(x):\n",
        "  return F.dropout(x, p = 0.5)\n",
        "\n",
        "a = torch.tensor([[4., 7.1, -3., 8.3, 10.]])\n",
        "\n",
        "y = linear(a)\n",
        "\n",
        "print(y)\n",
        "\n",
        "output = dp(y)\n",
        "\n",
        "print(output)\n"
      ],
      "metadata": {
        "id": "CqknqlLLio5y",
        "outputId": "fbd19ccb-444f-43d3-9b74-e99711caa3be",
        "colab": {
          "base_uri": "https://localhost:8080/"
        }
      },
      "execution_count": 10,
      "outputs": [
        {
          "output_type": "stream",
          "name": "stdout",
          "text": [
            "tensor([[-4.2291, -7.5247, -5.1133]], grad_fn=<AddmmBackward0>)\n",
            "tensor([[-8.4582, -0.0000, -0.0000]], grad_fn=<MulBackward0>)\n"
          ]
        }
      ]
    },
    {
      "cell_type": "markdown",
      "metadata": {
        "id": "i-xSNmhpm1LB"
      },
      "source": [
        "**Problème 1** Classification avec cibles bruitées\n",
        "\n",
        "Les utilisateurs du Machine Learning font souvent face à un problème de qualité des cibles.\n",
        "Dans ce court problème, on se propose de mesurer l'effet de cibles bruitées sur les performances en généralisation d'un CNN.\n",
        "\n",
        "\n",
        "Pour une comparaison propre, nous allons d'abord scinder en trois jeux le dataset MNIST :\n"
      ]
    },
    {
      "cell_type": "code",
      "execution_count": null,
      "metadata": {
        "id": "NozoimIfmkjc"
      },
      "outputs": [],
      "source": [
        "import torchvision\n",
        "from torchvision import datasets\n",
        "import torch\n",
        "from torch.utils.data import random_split, Dataset, DataLoader\n",
        "root = '/content/drive/MyDrive/TP_ENM/data'\n",
        "\n",
        "#Définition des jeux d'apprentissage:\n",
        "tr=torchvision.transforms.Compose([\n",
        "   torchvision.transforms.ToTensor(),\n",
        "   torchvision.transforms.Normalize((0.1307,), (0.3081,))\n",
        "   ])\n",
        "\n",
        "\n",
        "ds_trainval = datasets.MNIST(root='MNIST', download=True, train=True)\n",
        "ds_test = datasets.MNIST(root='MNIST', download=True, train=False)\n",
        "\n",
        "\n",
        "\n",
        "len_trainval = len(ds_trainval)\n",
        "len_train = round(0.8 * len_trainval)\n",
        "len_val = len_trainval - len_train\n",
        "subset_train, subset_val = random_split(ds_trainval,\n",
        "                                [len_train, len_val],\n",
        "                                generator=torch.Generator().manual_seed(1))"
      ]
    },
    {
      "cell_type": "code",
      "execution_count": null,
      "metadata": {
        "id": "rXc4EkTz0IFM"
      },
      "outputs": [],
      "source": [
        "#Split aléatoire en deux datasets (80% train, 20% val):\n",
        "class SubDataset(Dataset):\n",
        "    def __init__(self, subset, transform=None):\n",
        "        self.subset = subset\n",
        "        self.transform = transform\n",
        "\n",
        "    def __getitem__(self, index):\n",
        "        x, y = self.subset[index]\n",
        "        if self.transform:\n",
        "            x = self.transform(x)\n",
        "        return x, y\n",
        "\n",
        "    def __len__(self):\n",
        "        return len(self.subset)"
      ]
    },
    {
      "cell_type": "code",
      "execution_count": null,
      "metadata": {
        "id": "uOosklok0Lik"
      },
      "outputs": [],
      "source": [
        "ds = {}\n",
        "ds['train'] = SubDataset(subset_train, tr)\n",
        "ds['val'] = SubDataset(subset_val, tr)\n",
        "ds['test'] = ds_test\n",
        "loader = {x : DataLoader(ds[x], batch_size=32, shuffle=True, num_workers = 2) for x in ds.keys()}\n",
        "\n",
        "TrainLoader = loader['train']\n",
        "inputs, labels = next(iter(TrainLoader))"
      ]
    },
    {
      "cell_type": "code",
      "source": [
        "print(len(ds['train']))\n",
        "\n",
        "print(len(ds['val']))\n",
        "\n",
        "print(len(ds['test']))"
      ],
      "metadata": {
        "id": "Sfv-ZsXdlCTc",
        "outputId": "d722b4c5-639c-45c7-bc89-9b4ad8da71f8",
        "colab": {
          "base_uri": "https://localhost:8080/"
        }
      },
      "execution_count": null,
      "outputs": [
        {
          "output_type": "stream",
          "name": "stdout",
          "text": [
            "48000\n",
            "12000\n",
            "10000\n"
          ]
        }
      ]
    },
    {
      "cell_type": "markdown",
      "metadata": {
        "id": "JtQObOlvsZmK"
      },
      "source": [
        "**Question 6**  Quelles sont les tailles des différents jeux de données ? A quoi sert-il de fixer le générateur de nombres aléatoires dans random_split ?"
      ]
    },
    {
      "cell_type": "markdown",
      "metadata": {
        "id": "VPUp4Ckqsvwq"
      },
      "source": [
        "**Question 7** Reprendre le CNN du TP2/partie1 et la fonction train_model_gpu vue au TP2/partie2.\n",
        "- Ajouter une procédure de sélection de modèle à partir des performances sur le jeu de validation.\n",
        "- Coder une fonction test_model_gpu() qui calcule la justesse sur le jeu de test.\n",
        "- Faire tourner l'apprentissage sur 50 époques, avec l'optimiser ADAM, paramétré de manière standard.\n",
        "\n",
        "Quelles sont les performances sur le jeu de test du modèle sélectionné ? \\\\\n"
      ]
    },
    {
      "cell_type": "code",
      "source": [
        "if torch.cuda.is_available():\n",
        "  device = torch.device(\"cuda:0\") # 0 is the index of the GPU\n",
        "  print(torch.cuda.get_device_name(device))\n",
        "else:\n",
        "  print('Change the runtime type to GPU')"
      ],
      "metadata": {
        "id": "Jy1pNZ7envOX",
        "outputId": "ab5cf3dc-67ea-41bb-dc2d-00b109793213",
        "colab": {
          "base_uri": "https://localhost:8080/"
        }
      },
      "execution_count": null,
      "outputs": [
        {
          "output_type": "stream",
          "name": "stdout",
          "text": [
            "Tesla T4\n"
          ]
        }
      ]
    },
    {
      "cell_type": "code",
      "source": [
        "import time\n",
        "\n",
        "import copy\n",
        "\n",
        "N = 490\n",
        "\n",
        "class CNN(nn.Module):\n",
        "\n",
        "    def __init__(self):\n",
        "        super(CNN, self).__init__()\n",
        "        self.conv1 = nn.Conv2d(1, 10, kernel_size=5, padding=2)\n",
        "        self.conv2 = nn.Conv2d(10, 10, kernel_size=5, padding=2)\n",
        "        self.fc1 = nn.Linear(N, 50)\n",
        "        self.fc2 = nn.Linear(50, 10)\n",
        "\n",
        "    def forward(self, x):\n",
        "        x = F.relu(F.max_pool2d(self.conv1(x), 2))\n",
        "        x = F.relu(F.max_pool2d(self.conv2(x), 2))\n",
        "        x = x.view(-1, N)\n",
        "        x = F.relu(self.fc1(x))\n",
        "        x = F.dropout(x, training=self.training)\n",
        "        x = self.fc2(x)\n",
        "        # Here, the log is applied after the softmax:\n",
        "        return F.log_softmax(x, dim=1)\n",
        "\n",
        "\n",
        "dataset_sizes = {'train':len(ds['train']), 'val':len(ds['val']), 'test':len(ds['test'])}\n",
        "\n",
        "def train_model_gpu(model, loss_fn, optimizer, num_epochs=1):\n",
        "    # Record the starting time\n",
        "    since = time.time()\n",
        "\n",
        "    best_val_acc = 0\n",
        "    # Loop through epochs\n",
        "    for epoch in range(num_epochs):\n",
        "        print(f'Epoch {epoch}/{num_epochs - 1}')\n",
        "        print('-' * 10)\n",
        "\n",
        "        # Iterate through training and validation phases\n",
        "        for phase in ['train', 'val']:\n",
        "            # Set the model to training mode during the training phase, and evaluation mode during validation\n",
        "            if phase == 'train':\n",
        "                model.train()\n",
        "            else:\n",
        "                model.eval()\n",
        "\n",
        "            # Initialize counters for loss and correct predictions\n",
        "            running_loss = 0.0\n",
        "            running_corrects = 0\n",
        "\n",
        "            # Iterate through batches in the data loader\n",
        "            for inputs, labels in loader[phase]:\n",
        "                # Move inputs and labels to the specified device (GPU)\n",
        "                ### BEGIN SOLUTION\n",
        "                inputs = inputs.to(device)\n",
        "                labels = labels.to(device)\n",
        "                ### END SOLUTION\n",
        "\n",
        "                # Zero the gradients in the optimizer (same as in train_model())\n",
        "                ### BEGIN SOLUTION\n",
        "                optimizer.zero_grad()\n",
        "                ### END SOLUTION\n",
        "                # Forward pass: compute model outputs and predictions (same as in train_model())\n",
        "                with torch.set_grad_enabled(phase == 'train'):\n",
        "                    ### BEGIN SOLUTION\n",
        "                    outputs = model(inputs)\n",
        "                    _, preds = torch.max(outputs, 1)\n",
        "                    loss = loss_fn(outputs, labels)\n",
        "                    ### END SOLUTION\n",
        "                    # Backward pass and optimization step if in the training phase (same as in train_model())\n",
        "                    ### BEGIN SOLUTION\n",
        "                    if phase == 'train':\n",
        "                        loss.backward()\n",
        "                        optimizer.step()\n",
        "                    ### END SOLUTION\n",
        "                # Update counters\n",
        "                running_loss += loss.item() * inputs.size(0)\n",
        "                acc = torch.sum(preds == labels.data)\n",
        "                # The 'acc' tensor is distributed across different parts of the GPU\n",
        "                # Gather the 'acc' tensor on the CPU before accumulation\n",
        "                # running_corrects += ...\n",
        "                ### BEGIN SOLUTION\n",
        "                running_corrects += acc.cpu()\n",
        "                ### END SOLUTION\n",
        "\n",
        "            # Calculate average loss and accuracy for the epoch\n",
        "            epoch_loss = running_loss / dataset_sizes[phase]\n",
        "            epoch_acc = running_corrects.double() / dataset_sizes[phase]\n",
        "\n",
        "            # At the end of each epoch, save the best model:\n",
        "            if phase == \"val\" and epoch_acc > best_val_acc:\n",
        "              best_model_wts = copy.deepcopy(model.state_dict())\n",
        "\n",
        "            # Print epoch statistics\n",
        "            print(f'{phase} Loss: {epoch_loss:.4f} Acc: {100*epoch_acc:.2f}%')\n",
        "\n",
        "    # Calculate and print the total training time\n",
        "    time_elapsed = time.time() - since\n",
        "    print(f'Training complete in {time_elapsed // 60:.0f}m {time_elapsed % 60:.0f}s')\n",
        "    # Return the trained model\n",
        "    return model, best_model_wts\n",
        "\n",
        "\n",
        "model = CNN()\n",
        "model = model.to(device)\n",
        "optimizer = torch.optim.Adam(model.parameters(), lr=0.001)\n",
        "loss_fn =  nn.CrossEntropyLoss()\n",
        "\n",
        "model, best_model_wts = train_model_gpu(model, loss_fn, optimizer, num_epochs=50)\n"
      ],
      "metadata": {
        "id": "0cqO3zAdnLvZ",
        "outputId": "2ec63743-cccf-42b7-b0ad-988f2cb3232d",
        "colab": {
          "base_uri": "https://localhost:8080/"
        }
      },
      "execution_count": null,
      "outputs": [
        {
          "output_type": "stream",
          "name": "stdout",
          "text": [
            "Epoch 0/49\n",
            "----------\n",
            "train Loss: 0.3686 Acc: 88.46%\n",
            "val Loss: 0.0823 Acc: 97.56%\n",
            "Epoch 1/49\n",
            "----------\n",
            "train Loss: 0.1514 Acc: 95.55%\n",
            "val Loss: 0.0641 Acc: 98.05%\n",
            "Epoch 2/49\n",
            "----------\n",
            "train Loss: 0.1171 Acc: 96.48%\n",
            "val Loss: 0.0545 Acc: 98.35%\n",
            "Epoch 3/49\n",
            "----------\n",
            "train Loss: 0.1016 Acc: 97.00%\n",
            "val Loss: 0.0490 Acc: 98.57%\n",
            "Epoch 4/49\n",
            "----------\n",
            "train Loss: 0.0911 Acc: 97.31%\n",
            "val Loss: 0.0460 Acc: 98.63%\n",
            "Epoch 5/49\n",
            "----------\n",
            "train Loss: 0.0841 Acc: 97.47%\n",
            "val Loss: 0.0395 Acc: 98.72%\n",
            "Epoch 6/49\n",
            "----------\n",
            "train Loss: 0.0746 Acc: 97.73%\n",
            "val Loss: 0.0497 Acc: 98.58%\n",
            "Epoch 7/49\n",
            "----------\n",
            "train Loss: 0.0712 Acc: 97.80%\n",
            "val Loss: 0.0468 Acc: 98.67%\n",
            "Epoch 8/49\n",
            "----------\n",
            "train Loss: 0.0694 Acc: 97.85%\n",
            "val Loss: 0.0384 Acc: 98.93%\n",
            "Epoch 9/49\n",
            "----------\n",
            "train Loss: 0.0629 Acc: 98.10%\n",
            "val Loss: 0.0384 Acc: 98.89%\n",
            "Epoch 10/49\n",
            "----------\n",
            "train Loss: 0.0640 Acc: 98.00%\n",
            "val Loss: 0.0373 Acc: 98.95%\n",
            "Epoch 11/49\n",
            "----------\n",
            "train Loss: 0.0590 Acc: 98.16%\n",
            "val Loss: 0.0437 Acc: 98.88%\n",
            "Epoch 12/49\n",
            "----------\n",
            "train Loss: 0.0566 Acc: 98.13%\n",
            "val Loss: 0.0343 Acc: 98.99%\n",
            "Epoch 13/49\n",
            "----------\n",
            "train Loss: 0.0541 Acc: 98.25%\n",
            "val Loss: 0.0458 Acc: 98.79%\n",
            "Epoch 14/49\n",
            "----------\n",
            "train Loss: 0.0538 Acc: 98.32%\n",
            "val Loss: 0.0418 Acc: 98.78%\n",
            "Epoch 15/49\n",
            "----------\n",
            "train Loss: 0.0522 Acc: 98.29%\n",
            "val Loss: 0.0446 Acc: 98.85%\n",
            "Epoch 16/49\n",
            "----------\n",
            "train Loss: 0.0495 Acc: 98.42%\n",
            "val Loss: 0.0438 Acc: 98.84%\n",
            "Epoch 17/49\n",
            "----------\n",
            "train Loss: 0.0481 Acc: 98.43%\n",
            "val Loss: 0.0427 Acc: 98.84%\n",
            "Epoch 18/49\n",
            "----------\n",
            "train Loss: 0.0485 Acc: 98.39%\n",
            "val Loss: 0.0516 Acc: 98.70%\n",
            "Epoch 19/49\n",
            "----------\n",
            "train Loss: 0.0458 Acc: 98.56%\n",
            "val Loss: 0.0397 Acc: 98.98%\n",
            "Epoch 20/49\n",
            "----------\n",
            "train Loss: 0.0445 Acc: 98.53%\n",
            "val Loss: 0.0400 Acc: 98.94%\n",
            "Epoch 21/49\n",
            "----------\n",
            "train Loss: 0.0427 Acc: 98.57%\n",
            "val Loss: 0.0445 Acc: 98.84%\n",
            "Epoch 22/49\n",
            "----------\n",
            "train Loss: 0.0398 Acc: 98.66%\n",
            "val Loss: 0.0427 Acc: 98.90%\n",
            "Epoch 23/49\n",
            "----------\n",
            "train Loss: 0.0418 Acc: 98.65%\n",
            "val Loss: 0.0384 Acc: 98.98%\n",
            "Epoch 24/49\n",
            "----------\n",
            "train Loss: 0.0374 Acc: 98.78%\n",
            "val Loss: 0.0418 Acc: 99.02%\n",
            "Epoch 25/49\n",
            "----------\n",
            "train Loss: 0.0381 Acc: 98.78%\n",
            "val Loss: 0.0388 Acc: 99.06%\n",
            "Epoch 26/49\n",
            "----------\n",
            "train Loss: 0.0395 Acc: 98.75%\n",
            "val Loss: 0.0419 Acc: 99.04%\n",
            "Epoch 27/49\n",
            "----------\n",
            "train Loss: 0.0381 Acc: 98.74%\n",
            "val Loss: 0.0443 Acc: 98.98%\n",
            "Epoch 28/49\n",
            "----------\n",
            "train Loss: 0.0396 Acc: 98.72%\n",
            "val Loss: 0.0432 Acc: 99.07%\n",
            "Epoch 29/49\n",
            "----------\n",
            "train Loss: 0.0370 Acc: 98.76%\n",
            "val Loss: 0.0417 Acc: 98.98%\n",
            "Epoch 30/49\n",
            "----------\n",
            "train Loss: 0.0360 Acc: 98.81%\n",
            "val Loss: 0.0441 Acc: 99.05%\n",
            "Epoch 31/49\n",
            "----------\n",
            "train Loss: 0.0366 Acc: 98.78%\n",
            "val Loss: 0.0466 Acc: 98.93%\n",
            "Epoch 32/49\n",
            "----------\n",
            "train Loss: 0.0338 Acc: 98.87%\n",
            "val Loss: 0.0442 Acc: 98.98%\n",
            "Epoch 33/49\n",
            "----------\n",
            "train Loss: 0.0354 Acc: 98.86%\n",
            "val Loss: 0.0507 Acc: 98.98%\n",
            "Epoch 34/49\n",
            "----------\n",
            "train Loss: 0.0362 Acc: 98.80%\n",
            "val Loss: 0.0450 Acc: 99.00%\n",
            "Epoch 35/49\n",
            "----------\n",
            "train Loss: 0.0335 Acc: 98.93%\n",
            "val Loss: 0.0475 Acc: 99.03%\n",
            "Epoch 36/49\n",
            "----------\n",
            "train Loss: 0.0345 Acc: 98.80%\n",
            "val Loss: 0.0403 Acc: 99.05%\n",
            "Epoch 37/49\n",
            "----------\n",
            "train Loss: 0.0323 Acc: 98.93%\n",
            "val Loss: 0.0476 Acc: 98.95%\n",
            "Epoch 38/49\n",
            "----------\n",
            "train Loss: 0.0320 Acc: 98.88%\n",
            "val Loss: 0.0602 Acc: 98.98%\n",
            "Epoch 39/49\n",
            "----------\n",
            "train Loss: 0.0327 Acc: 98.89%\n",
            "val Loss: 0.0509 Acc: 98.94%\n",
            "Epoch 40/49\n",
            "----------\n",
            "train Loss: 0.0333 Acc: 98.90%\n",
            "val Loss: 0.0569 Acc: 98.81%\n",
            "Epoch 41/49\n",
            "----------\n",
            "train Loss: 0.0282 Acc: 99.02%\n",
            "val Loss: 0.0552 Acc: 98.97%\n",
            "Epoch 42/49\n",
            "----------\n",
            "train Loss: 0.0340 Acc: 98.89%\n",
            "val Loss: 0.0517 Acc: 99.02%\n",
            "Epoch 43/49\n",
            "----------\n",
            "train Loss: 0.0337 Acc: 98.89%\n",
            "val Loss: 0.0517 Acc: 98.98%\n",
            "Epoch 44/49\n",
            "----------\n",
            "train Loss: 0.0310 Acc: 98.98%\n",
            "val Loss: 0.0517 Acc: 98.98%\n",
            "Epoch 45/49\n",
            "----------\n",
            "train Loss: 0.0316 Acc: 98.97%\n",
            "val Loss: 0.0445 Acc: 99.03%\n",
            "Epoch 46/49\n",
            "----------\n",
            "train Loss: 0.0310 Acc: 98.98%\n",
            "val Loss: 0.0540 Acc: 98.90%\n",
            "Epoch 47/49\n",
            "----------\n",
            "train Loss: 0.0282 Acc: 99.05%\n",
            "val Loss: 0.0504 Acc: 99.00%\n",
            "Epoch 48/49\n",
            "----------\n",
            "train Loss: 0.0298 Acc: 99.00%\n",
            "val Loss: 0.0463 Acc: 99.03%\n",
            "Epoch 49/49\n",
            "----------\n",
            "train Loss: 0.0308 Acc: 98.99%\n",
            "val Loss: 0.0526 Acc: 98.96%\n",
            "Training complete in 15m 22s\n"
          ]
        }
      ]
    },
    {
      "cell_type": "code",
      "source": [
        "from tqdm import tqdm\n",
        "\n",
        "model.load_state_dict(best_model_wts)\n",
        "\n",
        "TestLoader = loader['test']\n",
        "\n",
        "# def test_model_gpu(model, loss_fn):\n",
        "#   phase = 'test'\n",
        "#   model.eval()\n",
        "\n",
        "#   running_loss = 0.0\n",
        "#   running_corrects = 0\n",
        "#   for input, label in tqdm(loader[phase]):\n",
        "#     input = input.to(device)\n",
        "#     label = label.to(device)\n",
        "#     output = model(input)\n",
        "#     loss = loss_fn(output, label)\n",
        "#     _, preds = torch.max(output, 1)\n",
        "#     running_loss += loss.item() * inputs.size(0)\n",
        "#     acc = torch.sum(preds == labels.data)\n",
        "#     acc = acc.to('cpu')\n",
        "#     running_corrects += acc\n",
        "#   loss_global = running_loss / dataset_sizes['test']\n",
        "#   acc_global = running_corrects.double() / dataset_sizes['test']\n",
        "#   return loss_global, acc_global\n",
        "\n",
        "\n",
        "def test_model_gpu(model):\n",
        "\n",
        "    phase = 'test'\n",
        "    model.eval()\n",
        "\n",
        "    # initialisation des compteurs\n",
        "    running_corrects = 0\n",
        "\n",
        "    for inputs, labels in tqdm(loader[phase]):\n",
        "        inputs = inputs.to(device)\n",
        "        labels = labels.to(device)\n",
        "\n",
        "        outputs = model(inputs)\n",
        "\n",
        "        _, preds = torch.max(outputs, 1)\n",
        "        running_corrects += torch.sum(preds == labels.data).cpu()\n",
        "\n",
        "    return running_corrects.double() / dataset_sizes[phase]\n",
        "\n",
        "\n",
        "loss_global, acc_global = test_model_gpu(model)\n",
        "\n",
        "print(loss_global)\n",
        "print(acc_global)"
      ],
      "metadata": {
        "id": "-32wT1Sqw4dZ",
        "outputId": "a7a5c832-ae10-44fe-8ed7-ecf8f4382dcd",
        "colab": {
          "base_uri": "https://localhost:8080/",
          "height": 653
        }
      },
      "execution_count": null,
      "outputs": [
        {
          "output_type": "stream",
          "name": "stderr",
          "text": [
            "  0%|          | 0/313 [00:00<?, ?it/s]\n"
          ]
        },
        {
          "output_type": "error",
          "ename": "TypeError",
          "evalue": "ignored",
          "traceback": [
            "\u001b[0;31m---------------------------------------------------------------------------\u001b[0m",
            "\u001b[0;31mTypeError\u001b[0m                                 Traceback (most recent call last)",
            "\u001b[0;32m<ipython-input-78-3f416dfdc39d>\u001b[0m in \u001b[0;36m<cell line: 48>\u001b[0;34m()\u001b[0m\n\u001b[1;32m     46\u001b[0m \u001b[0;34m\u001b[0m\u001b[0m\n\u001b[1;32m     47\u001b[0m \u001b[0;34m\u001b[0m\u001b[0m\n\u001b[0;32m---> 48\u001b[0;31m \u001b[0mloss_global\u001b[0m\u001b[0;34m,\u001b[0m \u001b[0macc_global\u001b[0m \u001b[0;34m=\u001b[0m \u001b[0mtest_model_gpu\u001b[0m\u001b[0;34m(\u001b[0m\u001b[0mmodel\u001b[0m\u001b[0;34m)\u001b[0m\u001b[0;34m\u001b[0m\u001b[0;34m\u001b[0m\u001b[0m\n\u001b[0m\u001b[1;32m     49\u001b[0m \u001b[0;34m\u001b[0m\u001b[0m\n\u001b[1;32m     50\u001b[0m \u001b[0mprint\u001b[0m\u001b[0;34m(\u001b[0m\u001b[0mloss_global\u001b[0m\u001b[0;34m)\u001b[0m\u001b[0;34m\u001b[0m\u001b[0;34m\u001b[0m\u001b[0m\n",
            "\u001b[0;32m<ipython-input-78-3f416dfdc39d>\u001b[0m in \u001b[0;36mtest_model_gpu\u001b[0;34m(model)\u001b[0m\n\u001b[1;32m     34\u001b[0m     \u001b[0mrunning_corrects\u001b[0m \u001b[0;34m=\u001b[0m \u001b[0;36m0\u001b[0m\u001b[0;34m\u001b[0m\u001b[0;34m\u001b[0m\u001b[0m\n\u001b[1;32m     35\u001b[0m \u001b[0;34m\u001b[0m\u001b[0m\n\u001b[0;32m---> 36\u001b[0;31m     \u001b[0;32mfor\u001b[0m \u001b[0minputs\u001b[0m\u001b[0;34m,\u001b[0m \u001b[0mlabels\u001b[0m \u001b[0;32min\u001b[0m \u001b[0mtqdm\u001b[0m\u001b[0;34m(\u001b[0m\u001b[0mloader\u001b[0m\u001b[0;34m[\u001b[0m\u001b[0mphase\u001b[0m\u001b[0;34m]\u001b[0m\u001b[0;34m)\u001b[0m\u001b[0;34m:\u001b[0m\u001b[0;34m\u001b[0m\u001b[0;34m\u001b[0m\u001b[0m\n\u001b[0m\u001b[1;32m     37\u001b[0m         \u001b[0minputs\u001b[0m \u001b[0;34m=\u001b[0m \u001b[0minputs\u001b[0m\u001b[0;34m.\u001b[0m\u001b[0mto\u001b[0m\u001b[0;34m(\u001b[0m\u001b[0mdevice\u001b[0m\u001b[0;34m)\u001b[0m\u001b[0;34m\u001b[0m\u001b[0;34m\u001b[0m\u001b[0m\n\u001b[1;32m     38\u001b[0m         \u001b[0mlabels\u001b[0m \u001b[0;34m=\u001b[0m \u001b[0mlabels\u001b[0m\u001b[0;34m.\u001b[0m\u001b[0mto\u001b[0m\u001b[0;34m(\u001b[0m\u001b[0mdevice\u001b[0m\u001b[0;34m)\u001b[0m\u001b[0;34m\u001b[0m\u001b[0;34m\u001b[0m\u001b[0m\n",
            "\u001b[0;32m/usr/local/lib/python3.10/dist-packages/tqdm/std.py\u001b[0m in \u001b[0;36m__iter__\u001b[0;34m(self)\u001b[0m\n\u001b[1;32m   1180\u001b[0m \u001b[0;34m\u001b[0m\u001b[0m\n\u001b[1;32m   1181\u001b[0m         \u001b[0;32mtry\u001b[0m\u001b[0;34m:\u001b[0m\u001b[0;34m\u001b[0m\u001b[0;34m\u001b[0m\u001b[0m\n\u001b[0;32m-> 1182\u001b[0;31m             \u001b[0;32mfor\u001b[0m \u001b[0mobj\u001b[0m \u001b[0;32min\u001b[0m \u001b[0miterable\u001b[0m\u001b[0;34m:\u001b[0m\u001b[0;34m\u001b[0m\u001b[0;34m\u001b[0m\u001b[0m\n\u001b[0m\u001b[1;32m   1183\u001b[0m                 \u001b[0;32myield\u001b[0m \u001b[0mobj\u001b[0m\u001b[0;34m\u001b[0m\u001b[0;34m\u001b[0m\u001b[0m\n\u001b[1;32m   1184\u001b[0m                 \u001b[0;31m# Update and possibly print the progressbar.\u001b[0m\u001b[0;34m\u001b[0m\u001b[0;34m\u001b[0m\u001b[0m\n",
            "\u001b[0;32m/usr/local/lib/python3.10/dist-packages/torch/utils/data/dataloader.py\u001b[0m in \u001b[0;36m__next__\u001b[0;34m(self)\u001b[0m\n\u001b[1;32m    628\u001b[0m                 \u001b[0;31m# TODO(https://github.com/pytorch/pytorch/issues/76750)\u001b[0m\u001b[0;34m\u001b[0m\u001b[0;34m\u001b[0m\u001b[0m\n\u001b[1;32m    629\u001b[0m                 \u001b[0mself\u001b[0m\u001b[0;34m.\u001b[0m\u001b[0m_reset\u001b[0m\u001b[0;34m(\u001b[0m\u001b[0;34m)\u001b[0m  \u001b[0;31m# type: ignore[call-arg]\u001b[0m\u001b[0;34m\u001b[0m\u001b[0;34m\u001b[0m\u001b[0m\n\u001b[0;32m--> 630\u001b[0;31m             \u001b[0mdata\u001b[0m \u001b[0;34m=\u001b[0m \u001b[0mself\u001b[0m\u001b[0;34m.\u001b[0m\u001b[0m_next_data\u001b[0m\u001b[0;34m(\u001b[0m\u001b[0;34m)\u001b[0m\u001b[0;34m\u001b[0m\u001b[0;34m\u001b[0m\u001b[0m\n\u001b[0m\u001b[1;32m    631\u001b[0m             \u001b[0mself\u001b[0m\u001b[0;34m.\u001b[0m\u001b[0m_num_yielded\u001b[0m \u001b[0;34m+=\u001b[0m \u001b[0;36m1\u001b[0m\u001b[0;34m\u001b[0m\u001b[0;34m\u001b[0m\u001b[0m\n\u001b[1;32m    632\u001b[0m             \u001b[0;32mif\u001b[0m \u001b[0mself\u001b[0m\u001b[0;34m.\u001b[0m\u001b[0m_dataset_kind\u001b[0m \u001b[0;34m==\u001b[0m \u001b[0m_DatasetKind\u001b[0m\u001b[0;34m.\u001b[0m\u001b[0mIterable\u001b[0m \u001b[0;32mand\u001b[0m\u001b[0;31m \u001b[0m\u001b[0;31m\\\u001b[0m\u001b[0;34m\u001b[0m\u001b[0;34m\u001b[0m\u001b[0m\n",
            "\u001b[0;32m/usr/local/lib/python3.10/dist-packages/torch/utils/data/dataloader.py\u001b[0m in \u001b[0;36m_next_data\u001b[0;34m(self)\u001b[0m\n\u001b[1;32m   1343\u001b[0m             \u001b[0;32melse\u001b[0m\u001b[0;34m:\u001b[0m\u001b[0;34m\u001b[0m\u001b[0;34m\u001b[0m\u001b[0m\n\u001b[1;32m   1344\u001b[0m                 \u001b[0;32mdel\u001b[0m \u001b[0mself\u001b[0m\u001b[0;34m.\u001b[0m\u001b[0m_task_info\u001b[0m\u001b[0;34m[\u001b[0m\u001b[0midx\u001b[0m\u001b[0;34m]\u001b[0m\u001b[0;34m\u001b[0m\u001b[0;34m\u001b[0m\u001b[0m\n\u001b[0;32m-> 1345\u001b[0;31m                 \u001b[0;32mreturn\u001b[0m \u001b[0mself\u001b[0m\u001b[0;34m.\u001b[0m\u001b[0m_process_data\u001b[0m\u001b[0;34m(\u001b[0m\u001b[0mdata\u001b[0m\u001b[0;34m)\u001b[0m\u001b[0;34m\u001b[0m\u001b[0;34m\u001b[0m\u001b[0m\n\u001b[0m\u001b[1;32m   1346\u001b[0m \u001b[0;34m\u001b[0m\u001b[0m\n\u001b[1;32m   1347\u001b[0m     \u001b[0;32mdef\u001b[0m \u001b[0m_try_put_index\u001b[0m\u001b[0;34m(\u001b[0m\u001b[0mself\u001b[0m\u001b[0;34m)\u001b[0m\u001b[0;34m:\u001b[0m\u001b[0;34m\u001b[0m\u001b[0;34m\u001b[0m\u001b[0m\n",
            "\u001b[0;32m/usr/local/lib/python3.10/dist-packages/torch/utils/data/dataloader.py\u001b[0m in \u001b[0;36m_process_data\u001b[0;34m(self, data)\u001b[0m\n\u001b[1;32m   1369\u001b[0m         \u001b[0mself\u001b[0m\u001b[0;34m.\u001b[0m\u001b[0m_try_put_index\u001b[0m\u001b[0;34m(\u001b[0m\u001b[0;34m)\u001b[0m\u001b[0;34m\u001b[0m\u001b[0;34m\u001b[0m\u001b[0m\n\u001b[1;32m   1370\u001b[0m         \u001b[0;32mif\u001b[0m \u001b[0misinstance\u001b[0m\u001b[0;34m(\u001b[0m\u001b[0mdata\u001b[0m\u001b[0;34m,\u001b[0m \u001b[0mExceptionWrapper\u001b[0m\u001b[0;34m)\u001b[0m\u001b[0;34m:\u001b[0m\u001b[0;34m\u001b[0m\u001b[0;34m\u001b[0m\u001b[0m\n\u001b[0;32m-> 1371\u001b[0;31m             \u001b[0mdata\u001b[0m\u001b[0;34m.\u001b[0m\u001b[0mreraise\u001b[0m\u001b[0;34m(\u001b[0m\u001b[0;34m)\u001b[0m\u001b[0;34m\u001b[0m\u001b[0;34m\u001b[0m\u001b[0m\n\u001b[0m\u001b[1;32m   1372\u001b[0m         \u001b[0;32mreturn\u001b[0m \u001b[0mdata\u001b[0m\u001b[0;34m\u001b[0m\u001b[0;34m\u001b[0m\u001b[0m\n\u001b[1;32m   1373\u001b[0m \u001b[0;34m\u001b[0m\u001b[0m\n",
            "\u001b[0;32m/usr/local/lib/python3.10/dist-packages/torch/_utils.py\u001b[0m in \u001b[0;36mreraise\u001b[0;34m(self)\u001b[0m\n\u001b[1;32m    692\u001b[0m             \u001b[0;31m# instantiate since we don't know how to\u001b[0m\u001b[0;34m\u001b[0m\u001b[0;34m\u001b[0m\u001b[0m\n\u001b[1;32m    693\u001b[0m             \u001b[0;32mraise\u001b[0m \u001b[0mRuntimeError\u001b[0m\u001b[0;34m(\u001b[0m\u001b[0mmsg\u001b[0m\u001b[0;34m)\u001b[0m \u001b[0;32mfrom\u001b[0m \u001b[0;32mNone\u001b[0m\u001b[0;34m\u001b[0m\u001b[0;34m\u001b[0m\u001b[0m\n\u001b[0;32m--> 694\u001b[0;31m         \u001b[0;32mraise\u001b[0m \u001b[0mexception\u001b[0m\u001b[0;34m\u001b[0m\u001b[0;34m\u001b[0m\u001b[0m\n\u001b[0m\u001b[1;32m    695\u001b[0m \u001b[0;34m\u001b[0m\u001b[0m\n\u001b[1;32m    696\u001b[0m \u001b[0;34m\u001b[0m\u001b[0m\n",
            "\u001b[0;31mTypeError\u001b[0m: Caught TypeError in DataLoader worker process 0.\nOriginal Traceback (most recent call last):\n  File \"/usr/local/lib/python3.10/dist-packages/torch/utils/data/_utils/worker.py\", line 308, in _worker_loop\n    data = fetcher.fetch(index)\n  File \"/usr/local/lib/python3.10/dist-packages/torch/utils/data/_utils/fetch.py\", line 54, in fetch\n    return self.collate_fn(data)\n  File \"/usr/local/lib/python3.10/dist-packages/torch/utils/data/_utils/collate.py\", line 265, in default_collate\n    return collate(batch, collate_fn_map=default_collate_fn_map)\n  File \"/usr/local/lib/python3.10/dist-packages/torch/utils/data/_utils/collate.py\", line 142, in collate\n    return [collate(samples, collate_fn_map=collate_fn_map) for samples in transposed]  # Backwards compatibility.\n  File \"/usr/local/lib/python3.10/dist-packages/torch/utils/data/_utils/collate.py\", line 142, in <listcomp>\n    return [collate(samples, collate_fn_map=collate_fn_map) for samples in transposed]  # Backwards compatibility.\n  File \"/usr/local/lib/python3.10/dist-packages/torch/utils/data/_utils/collate.py\", line 150, in collate\n    raise TypeError(default_collate_err_msg_format.format(elem_type))\nTypeError: default_collate: batch must contain tensors, numpy arrays, numbers, dicts or lists; found <class 'PIL.Image.Image'>\n"
          ]
        }
      ]
    },
    {
      "cell_type": "markdown",
      "metadata": {
        "id": "GhGIdbGx1oRn"
      },
      "source": [
        "**Question 8** Quel est l'effet de la fonction suivante sur un batch de cibles ?"
      ]
    },
    {
      "cell_type": "code",
      "execution_count": null,
      "metadata": {
        "id": "OiZuZ2_p1xY2",
        "outputId": "218cb47f-01c7-410e-e0c5-797190d1ce54",
        "colab": {
          "base_uri": "https://localhost:8080/"
        }
      },
      "outputs": [
        {
          "output_type": "stream",
          "name": "stdout",
          "text": [
            "tensor([8, 5, 1, 8, 2, 7, 2, 0, 5, 5, 4, 6, 5, 5, 3, 1, 6, 7, 4, 5, 4, 2, 2, 8,\n",
            "        7, 5, 0, 8, 9, 4, 9, 5], device='cuda:0')\n",
            "tensor([8, 0, 1, 8, 1, 8, 3, 5, 5, 4, 9, 6, 3, 4, 3, 1, 6, 7, 4, 0, 0, 2, 2, 6,\n",
            "        7, 5, 0, 8, 9, 4, 5, 5], device='cuda:0')\n"
          ]
        }
      ],
      "source": [
        "def flipping_label(labels, p):\n",
        "  #Sélection aléatoire des composantes\n",
        "  flip_probas = p * torch.ones(labels.shape)\n",
        "  flip_or_not = torch.bernoulli(flip_probas) == 1\n",
        "  random_labels = torch.randint(0,10,labels.shape).to(device)\n",
        "  labels[flip_or_not] = random_labels[flip_or_not]\n",
        "\n",
        "\n",
        "\n",
        "labels = torch.randint(0,10,(32,)).to(device)\n",
        "print(labels)\n",
        "\n",
        "# niveau de bruit :\n",
        "p = 0.5\n",
        "\n",
        "# Après bruitage :\n",
        "flipping_label(labels, p)\n",
        "print(labels)"
      ]
    },
    {
      "cell_type": "markdown",
      "source": [
        "La fonction permet de changer la cible avec une probabilité un demi, c'est-à-dire q'une cible a une chance sur deux de voir sa valeur changer selon une loi uniforme sur 0 à 9"
      ],
      "metadata": {
        "id": "7Xy3s-YCElza"
      }
    },
    {
      "cell_type": "markdown",
      "metadata": {
        "id": "-5gWTBWgt9O0"
      },
      "source": [
        "**Question 9** Définir une procédure d'entraînement \"bruitée\" à partir de flipping_labels() (ne bruiter que la phase d'entraînement). Quel est l'effet sur les performances en fonction du niveau de bruit ?"
      ]
    },
    {
      "cell_type": "code",
      "source": [
        "def train_model_gpu_proba(model, loss_fn, optimizer, num_epochs, p):\n",
        "    # Record the starting time\n",
        "    since = time.time()\n",
        "\n",
        "    best_val_acc = 0\n",
        "    # Loop through epochs\n",
        "    for epoch in range(num_epochs):\n",
        "        print(f'Epoch {epoch}/{num_epochs - 1}')\n",
        "        print('-' * 10)\n",
        "\n",
        "        # Iterate through training and validation phases\n",
        "        for phase in ['train', 'val']:\n",
        "            # Set the model to training mode during the training phase, and evaluation mode during validation\n",
        "            if phase == 'train':\n",
        "                model.train()\n",
        "            else:\n",
        "                model.eval()\n",
        "\n",
        "            # Initialize counters for loss and correct predictions\n",
        "            running_loss = 0.0\n",
        "            running_corrects = 0\n",
        "\n",
        "            # Iterate through batches in the data loader\n",
        "            for inputs, labels in loader[phase]:\n",
        "                # Move inputs and labels to the specified device (GPU)\n",
        "                ### BEGIN SOLUTION\n",
        "                inputs = inputs.to(device)\n",
        "                labels = labels.to(device)\n",
        "                flipping_label(labels, p)\n",
        "                ### END SOLUTION\n",
        "\n",
        "                # Zero the gradients in the optimizer (same as in train_model())\n",
        "                ### BEGIN SOLUTION\n",
        "                optimizer.zero_grad()\n",
        "                ### END SOLUTION\n",
        "                # Forward pass: compute model outputs and predictions (same as in train_model())\n",
        "                with torch.set_grad_enabled(phase == 'train'):\n",
        "                    ### BEGIN SOLUTION\n",
        "                    outputs = model(inputs)\n",
        "                    _, preds = torch.max(outputs, 1)\n",
        "                    loss = loss_fn(outputs, labels)\n",
        "                    ### END SOLUTION\n",
        "                    # Backward pass and optimization step if in the training phase (same as in train_model())\n",
        "                    ### BEGIN SOLUTION\n",
        "                    if phase == 'train':\n",
        "                        loss.backward()\n",
        "                        optimizer.step()\n",
        "                    ### END SOLUTION\n",
        "                # Update counters\n",
        "                running_loss += loss.item() * inputs.size(0)\n",
        "                acc = torch.sum(preds == labels.data)\n",
        "                # The 'acc' tensor is distributed across different parts of the GPU\n",
        "                # Gather the 'acc' tensor on the CPU before accumulation\n",
        "                # running_corrects += ...\n",
        "                ### BEGIN SOLUTION\n",
        "                running_corrects += acc.cpu()\n",
        "                ### END SOLUTION\n",
        "\n",
        "            # Calculate average loss and accuracy for the epoch\n",
        "            epoch_loss = running_loss / dataset_sizes[phase]\n",
        "            epoch_acc = running_corrects.double() / dataset_sizes[phase]\n",
        "\n",
        "            # At the end of each epoch, save the best model:\n",
        "            if phase == \"val\" and epoch_acc > best_val_acc:\n",
        "              best_model_wts = copy.deepcopy(model.state_dict())\n",
        "\n",
        "            # Print epoch statistics\n",
        "            print(f'{phase} Loss: {epoch_loss:.4f} Acc: {100*epoch_acc:.2f}%')\n",
        "\n",
        "    # Calculate and print the total training time\n",
        "    time_elapsed = time.time() - since\n",
        "    print(f'Training complete in {time_elapsed // 60:.0f}m {time_elapsed % 60:.0f}s')\n",
        "    # Return the trained model\n",
        "    return model\n",
        "\n",
        "\n",
        "model = CNN()\n",
        "model = model.to(device)\n",
        "optimizer = torch.optim.Adam(model.parameters(), lr=0.001)\n",
        "loss_fn =  nn.CrossEntropyLoss()\n",
        "\n",
        "model = train_model_gpu_proba(model, loss_fn, optimizer, num_epochs=50, p = 0.5)"
      ],
      "metadata": {
        "id": "VzDVUqYzFjOb",
        "outputId": "67298926-fefa-47b2-c158-d5157217239e",
        "colab": {
          "base_uri": "https://localhost:8080/"
        }
      },
      "execution_count": null,
      "outputs": [
        {
          "output_type": "stream",
          "name": "stdout",
          "text": [
            "Epoch 0/49\n",
            "----------\n",
            "train Loss: 1.9365 Acc: 45.19%\n",
            "val Loss: 1.7617 Acc: 53.17%\n",
            "Epoch 1/49\n",
            "----------\n",
            "train Loss: 1.8434 Acc: 51.34%\n",
            "val Loss: 1.7675 Acc: 53.45%\n",
            "Epoch 2/49\n",
            "----------\n",
            "train Loss: 1.8387 Acc: 51.84%\n",
            "val Loss: 1.7429 Acc: 53.65%\n",
            "Epoch 3/49\n",
            "----------\n",
            "train Loss: 1.8311 Acc: 52.23%\n",
            "val Loss: 1.7544 Acc: 53.29%\n",
            "Epoch 4/49\n",
            "----------\n",
            "train Loss: 1.8334 Acc: 52.02%\n",
            "val Loss: 1.7576 Acc: 53.91%\n",
            "Epoch 5/49\n",
            "----------\n",
            "train Loss: 1.8196 Acc: 52.74%\n",
            "val Loss: 1.7537 Acc: 53.73%\n",
            "Epoch 6/49\n",
            "----------\n",
            "train Loss: 1.8236 Acc: 52.49%\n",
            "val Loss: 1.7315 Acc: 54.37%\n",
            "Epoch 7/49\n",
            "----------\n",
            "train Loss: 1.8228 Acc: 52.56%\n",
            "val Loss: 1.7235 Acc: 54.34%\n",
            "Epoch 8/49\n",
            "----------\n",
            "train Loss: 1.8110 Acc: 52.90%\n",
            "val Loss: 1.7675 Acc: 53.45%\n",
            "Epoch 9/49\n",
            "----------\n",
            "train Loss: 1.8180 Acc: 52.74%\n",
            "val Loss: 1.7595 Acc: 52.88%\n",
            "Epoch 10/49\n",
            "----------\n",
            "train Loss: 1.8119 Acc: 52.99%\n",
            "val Loss: 1.7544 Acc: 53.76%\n",
            "Epoch 11/49\n",
            "----------\n",
            "train Loss: 1.8114 Acc: 52.95%\n",
            "val Loss: 1.7323 Acc: 53.77%\n",
            "Epoch 12/49\n",
            "----------\n",
            "train Loss: 1.8093 Acc: 52.98%\n",
            "val Loss: 1.7257 Acc: 54.23%\n",
            "Epoch 13/49\n",
            "----------\n",
            "train Loss: 1.8083 Acc: 53.22%\n",
            "val Loss: 1.7326 Acc: 54.22%\n",
            "Epoch 14/49\n",
            "----------\n",
            "train Loss: 1.8124 Acc: 53.04%\n",
            "val Loss: 1.7533 Acc: 53.63%\n",
            "Epoch 15/49\n",
            "----------\n",
            "train Loss: 1.8091 Acc: 52.96%\n",
            "val Loss: 1.7309 Acc: 53.82%\n",
            "Epoch 16/49\n",
            "----------\n",
            "train Loss: 1.8081 Acc: 53.14%\n",
            "val Loss: 1.7257 Acc: 53.83%\n",
            "Epoch 17/49\n",
            "----------\n",
            "train Loss: 1.8052 Acc: 53.26%\n",
            "val Loss: 1.7473 Acc: 53.66%\n",
            "Epoch 18/49\n",
            "----------\n",
            "train Loss: 1.8198 Acc: 52.56%\n",
            "val Loss: 1.7093 Acc: 54.79%\n",
            "Epoch 19/49\n",
            "----------\n",
            "train Loss: 1.8124 Acc: 52.99%\n",
            "val Loss: 1.7283 Acc: 53.75%\n",
            "Epoch 20/49\n",
            "----------\n",
            "train Loss: 1.8075 Acc: 53.22%\n",
            "val Loss: 1.7160 Acc: 54.23%\n",
            "Epoch 21/49\n",
            "----------\n",
            "train Loss: 1.8079 Acc: 53.16%\n",
            "val Loss: 1.7239 Acc: 54.18%\n",
            "Epoch 22/49\n",
            "----------\n",
            "train Loss: 1.8138 Acc: 53.08%\n",
            "val Loss: 1.7169 Acc: 54.44%\n",
            "Epoch 23/49\n",
            "----------\n",
            "train Loss: 1.7953 Acc: 53.48%\n",
            "val Loss: 1.7279 Acc: 54.00%\n",
            "Epoch 24/49\n",
            "----------\n",
            "train Loss: 1.8021 Acc: 53.39%\n",
            "val Loss: 1.7210 Acc: 54.62%\n",
            "Epoch 25/49\n",
            "----------\n",
            "train Loss: 1.8026 Acc: 53.42%\n",
            "val Loss: 1.7146 Acc: 54.52%\n",
            "Epoch 26/49\n",
            "----------\n",
            "train Loss: 1.8042 Acc: 53.41%\n",
            "val Loss: 1.7303 Acc: 54.41%\n",
            "Epoch 27/49\n",
            "----------\n",
            "train Loss: 1.8054 Acc: 53.03%\n",
            "val Loss: 1.7372 Acc: 53.68%\n",
            "Epoch 28/49\n",
            "----------\n",
            "train Loss: 1.7987 Acc: 53.53%\n",
            "val Loss: 1.7372 Acc: 53.65%\n",
            "Epoch 29/49\n",
            "----------\n",
            "train Loss: 1.7981 Acc: 53.52%\n",
            "val Loss: 1.7283 Acc: 53.82%\n",
            "Epoch 30/49\n",
            "----------\n",
            "train Loss: 1.8155 Acc: 52.83%\n",
            "val Loss: 1.7258 Acc: 54.49%\n",
            "Epoch 31/49\n",
            "----------\n",
            "train Loss: 1.7979 Acc: 53.50%\n",
            "val Loss: 1.7220 Acc: 54.59%\n",
            "Epoch 32/49\n",
            "----------\n",
            "train Loss: 1.8066 Acc: 53.12%\n",
            "val Loss: 1.7214 Acc: 54.19%\n",
            "Epoch 33/49\n",
            "----------\n",
            "train Loss: 1.7999 Acc: 53.29%\n",
            "val Loss: 1.7227 Acc: 54.20%\n",
            "Epoch 34/49\n",
            "----------\n",
            "train Loss: 1.8046 Acc: 53.15%\n",
            "val Loss: 1.7336 Acc: 53.82%\n",
            "Epoch 35/49\n",
            "----------\n",
            "train Loss: 1.7990 Acc: 53.50%\n",
            "val Loss: 1.7222 Acc: 54.43%\n",
            "Epoch 36/49\n",
            "----------\n",
            "train Loss: 1.8080 Acc: 52.94%\n",
            "val Loss: 1.7219 Acc: 53.90%\n",
            "Epoch 37/49\n",
            "----------\n",
            "train Loss: 1.8023 Acc: 53.16%\n",
            "val Loss: 1.7165 Acc: 54.43%\n",
            "Epoch 38/49\n",
            "----------\n",
            "train Loss: 1.8018 Acc: 53.31%\n",
            "val Loss: 1.7173 Acc: 54.49%\n",
            "Epoch 39/49\n",
            "----------\n",
            "train Loss: 1.7970 Acc: 53.32%\n",
            "val Loss: 1.7320 Acc: 53.87%\n",
            "Epoch 40/49\n",
            "----------\n",
            "train Loss: 1.7959 Acc: 53.42%\n",
            "val Loss: 1.7224 Acc: 53.83%\n",
            "Epoch 41/49\n",
            "----------\n",
            "train Loss: 1.7988 Acc: 53.37%\n",
            "val Loss: 1.7012 Acc: 55.17%\n",
            "Epoch 42/49\n",
            "----------\n",
            "train Loss: 1.8005 Acc: 53.33%\n",
            "val Loss: 1.7115 Acc: 54.75%\n",
            "Epoch 43/49\n",
            "----------\n",
            "train Loss: 1.7942 Acc: 53.66%\n",
            "val Loss: 1.7505 Acc: 53.01%\n",
            "Epoch 44/49\n",
            "----------\n",
            "train Loss: 1.8067 Acc: 53.06%\n",
            "val Loss: 1.7112 Acc: 54.57%\n",
            "Epoch 45/49\n",
            "----------\n",
            "train Loss: 1.7956 Acc: 53.55%\n",
            "val Loss: 1.7313 Acc: 53.52%\n",
            "Epoch 46/49\n",
            "----------\n",
            "train Loss: 1.7987 Acc: 53.59%\n",
            "val Loss: 1.7239 Acc: 54.39%\n",
            "Epoch 47/49\n",
            "----------\n",
            "train Loss: 1.7945 Acc: 53.79%\n",
            "val Loss: 1.7230 Acc: 54.07%\n",
            "Epoch 48/49\n",
            "----------\n",
            "train Loss: 1.7956 Acc: 53.50%\n",
            "val Loss: 1.7064 Acc: 54.83%\n",
            "Epoch 49/49\n",
            "----------\n",
            "train Loss: 1.8019 Acc: 53.22%\n",
            "val Loss: 1.7355 Acc: 53.42%\n",
            "Training complete in 15m 20s\n"
          ]
        }
      ]
    },
    {
      "cell_type": "markdown",
      "metadata": {
        "id": "NA8klyqT7w7c"
      },
      "source": [
        "**Problème 2** Le chat perturbé\n",
        "\n",
        "\n",
        "Reprendre l'image de chat du TP2 et la bruiter de manière à ce que :\n",
        "- le chat soit encore parfaitement reconnaissable\n",
        "- le VGG16 vu au TP2 se trompe complètement de classe.\n",
        "\n",
        "Vous pourrez par exemple dégrader la résolution et modifier localement la valeur de certains pixels. En vous renseignant un peu sur les \"attaques adversariales\", vous verrez comment aborder le problème par des techniques d'optimisation bien choisies. \\\\\n",
        "L'image \"disrupted_cat.jpg\" du répertoire \"exercises\" fournit un exemple de solution. Les cellules ci-dessous permettent de le vérifier."
      ]
    },
    {
      "cell_type": "code",
      "execution_count": 11,
      "metadata": {
        "colab": {
          "base_uri": "https://localhost:8080/",
          "height": 340
        },
        "id": "1a5xCu_O_FCn",
        "outputId": "547bd3ca-09c0-4a18-9c75-196db90cb9e1"
      },
      "outputs": [
        {
          "output_type": "error",
          "ename": "MessageError",
          "evalue": "Error: credential propagation was unsuccessful",
          "traceback": [
            "\u001b[0;31m---------------------------------------------------------------------------\u001b[0m",
            "\u001b[0;31mMessageError\u001b[0m                              Traceback (most recent call last)",
            "\u001b[0;32m<ipython-input-11-d5df0069828e>\u001b[0m in \u001b[0;36m<cell line: 2>\u001b[0;34m()\u001b[0m\n\u001b[1;32m      1\u001b[0m \u001b[0;32mfrom\u001b[0m \u001b[0mgoogle\u001b[0m\u001b[0;34m.\u001b[0m\u001b[0mcolab\u001b[0m \u001b[0;32mimport\u001b[0m \u001b[0mdrive\u001b[0m\u001b[0;34m\u001b[0m\u001b[0;34m\u001b[0m\u001b[0m\n\u001b[0;32m----> 2\u001b[0;31m \u001b[0mdrive\u001b[0m\u001b[0;34m.\u001b[0m\u001b[0mmount\u001b[0m\u001b[0;34m(\u001b[0m\u001b[0;34m'/content/drive'\u001b[0m\u001b[0;34m)\u001b[0m\u001b[0;34m\u001b[0m\u001b[0;34m\u001b[0m\u001b[0m\n\u001b[0m",
            "\u001b[0;32m/usr/local/lib/python3.10/dist-packages/google/colab/drive.py\u001b[0m in \u001b[0;36mmount\u001b[0;34m(mountpoint, force_remount, timeout_ms, readonly)\u001b[0m\n\u001b[1;32m     98\u001b[0m \u001b[0;32mdef\u001b[0m \u001b[0mmount\u001b[0m\u001b[0;34m(\u001b[0m\u001b[0mmountpoint\u001b[0m\u001b[0;34m,\u001b[0m \u001b[0mforce_remount\u001b[0m\u001b[0;34m=\u001b[0m\u001b[0;32mFalse\u001b[0m\u001b[0;34m,\u001b[0m \u001b[0mtimeout_ms\u001b[0m\u001b[0;34m=\u001b[0m\u001b[0;36m120000\u001b[0m\u001b[0;34m,\u001b[0m \u001b[0mreadonly\u001b[0m\u001b[0;34m=\u001b[0m\u001b[0;32mFalse\u001b[0m\u001b[0;34m)\u001b[0m\u001b[0;34m:\u001b[0m\u001b[0;34m\u001b[0m\u001b[0;34m\u001b[0m\u001b[0m\n\u001b[1;32m     99\u001b[0m   \u001b[0;34m\"\"\"Mount your Google Drive at the specified mountpoint path.\"\"\"\u001b[0m\u001b[0;34m\u001b[0m\u001b[0;34m\u001b[0m\u001b[0m\n\u001b[0;32m--> 100\u001b[0;31m   return _mount(\n\u001b[0m\u001b[1;32m    101\u001b[0m       \u001b[0mmountpoint\u001b[0m\u001b[0;34m,\u001b[0m\u001b[0;34m\u001b[0m\u001b[0;34m\u001b[0m\u001b[0m\n\u001b[1;32m    102\u001b[0m       \u001b[0mforce_remount\u001b[0m\u001b[0;34m=\u001b[0m\u001b[0mforce_remount\u001b[0m\u001b[0;34m,\u001b[0m\u001b[0;34m\u001b[0m\u001b[0;34m\u001b[0m\u001b[0m\n",
            "\u001b[0;32m/usr/local/lib/python3.10/dist-packages/google/colab/drive.py\u001b[0m in \u001b[0;36m_mount\u001b[0;34m(mountpoint, force_remount, timeout_ms, ephemeral, readonly)\u001b[0m\n\u001b[1;32m    127\u001b[0m   )\n\u001b[1;32m    128\u001b[0m   \u001b[0;32mif\u001b[0m \u001b[0mephemeral\u001b[0m\u001b[0;34m:\u001b[0m\u001b[0;34m\u001b[0m\u001b[0;34m\u001b[0m\u001b[0m\n\u001b[0;32m--> 129\u001b[0;31m     _message.blocking_request(\n\u001b[0m\u001b[1;32m    130\u001b[0m         \u001b[0;34m'request_auth'\u001b[0m\u001b[0;34m,\u001b[0m \u001b[0mrequest\u001b[0m\u001b[0;34m=\u001b[0m\u001b[0;34m{\u001b[0m\u001b[0;34m'authType'\u001b[0m\u001b[0;34m:\u001b[0m \u001b[0;34m'dfs_ephemeral'\u001b[0m\u001b[0;34m}\u001b[0m\u001b[0;34m,\u001b[0m \u001b[0mtimeout_sec\u001b[0m\u001b[0;34m=\u001b[0m\u001b[0;32mNone\u001b[0m\u001b[0;34m\u001b[0m\u001b[0;34m\u001b[0m\u001b[0m\n\u001b[1;32m    131\u001b[0m     )\n",
            "\u001b[0;32m/usr/local/lib/python3.10/dist-packages/google/colab/_message.py\u001b[0m in \u001b[0;36mblocking_request\u001b[0;34m(request_type, request, timeout_sec, parent)\u001b[0m\n\u001b[1;32m    174\u001b[0m       \u001b[0mrequest_type\u001b[0m\u001b[0;34m,\u001b[0m \u001b[0mrequest\u001b[0m\u001b[0;34m,\u001b[0m \u001b[0mparent\u001b[0m\u001b[0;34m=\u001b[0m\u001b[0mparent\u001b[0m\u001b[0;34m,\u001b[0m \u001b[0mexpect_reply\u001b[0m\u001b[0;34m=\u001b[0m\u001b[0;32mTrue\u001b[0m\u001b[0;34m\u001b[0m\u001b[0;34m\u001b[0m\u001b[0m\n\u001b[1;32m    175\u001b[0m   )\n\u001b[0;32m--> 176\u001b[0;31m   \u001b[0;32mreturn\u001b[0m \u001b[0mread_reply_from_input\u001b[0m\u001b[0;34m(\u001b[0m\u001b[0mrequest_id\u001b[0m\u001b[0;34m,\u001b[0m \u001b[0mtimeout_sec\u001b[0m\u001b[0;34m)\u001b[0m\u001b[0;34m\u001b[0m\u001b[0;34m\u001b[0m\u001b[0m\n\u001b[0m",
            "\u001b[0;32m/usr/local/lib/python3.10/dist-packages/google/colab/_message.py\u001b[0m in \u001b[0;36mread_reply_from_input\u001b[0;34m(message_id, timeout_sec)\u001b[0m\n\u001b[1;32m    101\u001b[0m     ):\n\u001b[1;32m    102\u001b[0m       \u001b[0;32mif\u001b[0m \u001b[0;34m'error'\u001b[0m \u001b[0;32min\u001b[0m \u001b[0mreply\u001b[0m\u001b[0;34m:\u001b[0m\u001b[0;34m\u001b[0m\u001b[0;34m\u001b[0m\u001b[0m\n\u001b[0;32m--> 103\u001b[0;31m         \u001b[0;32mraise\u001b[0m \u001b[0mMessageError\u001b[0m\u001b[0;34m(\u001b[0m\u001b[0mreply\u001b[0m\u001b[0;34m[\u001b[0m\u001b[0;34m'error'\u001b[0m\u001b[0;34m]\u001b[0m\u001b[0;34m)\u001b[0m\u001b[0;34m\u001b[0m\u001b[0;34m\u001b[0m\u001b[0m\n\u001b[0m\u001b[1;32m    104\u001b[0m       \u001b[0;32mreturn\u001b[0m \u001b[0mreply\u001b[0m\u001b[0;34m.\u001b[0m\u001b[0mget\u001b[0m\u001b[0;34m(\u001b[0m\u001b[0;34m'data'\u001b[0m\u001b[0;34m,\u001b[0m \u001b[0;32mNone\u001b[0m\u001b[0;34m)\u001b[0m\u001b[0;34m\u001b[0m\u001b[0;34m\u001b[0m\u001b[0m\n\u001b[1;32m    105\u001b[0m \u001b[0;34m\u001b[0m\u001b[0m\n",
            "\u001b[0;31mMessageError\u001b[0m: Error: credential propagation was unsuccessful"
          ]
        }
      ],
      "source": [
        "from google.colab import drive\n",
        "drive.mount('/content/drive')"
      ]
    },
    {
      "cell_type": "code",
      "source": [
        "! git clone https://github.com/relmonta/ml-student.git"
      ],
      "metadata": {
        "id": "FXzuQ5-SM093",
        "outputId": "2d403d08-02c8-409d-cda0-16b4599e0f8b",
        "colab": {
          "base_uri": "https://localhost:8080/"
        }
      },
      "execution_count": 16,
      "outputs": [
        {
          "output_type": "stream",
          "name": "stdout",
          "text": [
            "Cloning into 'ml-student'...\n",
            "remote: Enumerating objects: 381, done.\u001b[K\n",
            "remote: Counting objects: 100% (171/171), done.\u001b[K\n",
            "remote: Compressing objects: 100% (74/74), done.\u001b[K\n",
            "remote: Total 381 (delta 117), reused 128 (delta 93), pack-reused 210\u001b[K\n",
            "Receiving objects: 100% (381/381), 48.56 MiB | 22.80 MiB/s, done.\n",
            "Resolving deltas: 100% (157/157), done.\n"
          ]
        }
      ]
    },
    {
      "cell_type": "code",
      "source": [
        "! ls ml-student/TP1"
      ],
      "metadata": {
        "id": "ZO_-LHHJM3G3",
        "outputId": "cd46c0c3-bff9-4ab3-816d-5a0c1dea7483",
        "colab": {
          "base_uri": "https://localhost:8080/"
        }
      },
      "execution_count": 17,
      "outputs": [
        {
          "output_type": "stream",
          "name": "stdout",
          "text": [
            "cat.jpg  TP1_part1_corr.ipynb  TP1_part1.ipynb\tTP1_part2_corr.ipynb  TP1_part2.ipynb\n"
          ]
        }
      ]
    },
    {
      "cell_type": "code",
      "execution_count": 18,
      "metadata": {
        "id": "0bgOmbQOK5C7",
        "outputId": "20f8496f-6dab-4a99-fb89-622ca9100a28",
        "colab": {
          "base_uri": "https://localhost:8080/"
        }
      },
      "outputs": [
        {
          "output_type": "stream",
          "name": "stderr",
          "text": [
            "/usr/local/lib/python3.10/dist-packages/torchvision/models/_utils.py:208: UserWarning: The parameter 'pretrained' is deprecated since 0.13 and may be removed in the future, please use 'weights' instead.\n",
            "  warnings.warn(\n",
            "/usr/local/lib/python3.10/dist-packages/torchvision/models/_utils.py:223: UserWarning: Arguments other than a weight enum or `None` for 'weights' are deprecated since 0.13 and may be removed in the future. The current behavior is equivalent to passing `weights=VGG16_Weights.IMAGENET1K_V1`. You can also use `weights=VGG16_Weights.DEFAULT` to get the most up-to-date weights.\n",
            "  warnings.warn(msg)\n"
          ]
        },
        {
          "output_type": "execute_result",
          "data": {
            "text/plain": [
              "VGG(\n",
              "  (features): Sequential(\n",
              "    (0): Conv2d(3, 64, kernel_size=(3, 3), stride=(1, 1), padding=(1, 1))\n",
              "    (1): ReLU(inplace=True)\n",
              "    (2): Conv2d(64, 64, kernel_size=(3, 3), stride=(1, 1), padding=(1, 1))\n",
              "    (3): ReLU(inplace=True)\n",
              "    (4): MaxPool2d(kernel_size=2, stride=2, padding=0, dilation=1, ceil_mode=False)\n",
              "    (5): Conv2d(64, 128, kernel_size=(3, 3), stride=(1, 1), padding=(1, 1))\n",
              "    (6): ReLU(inplace=True)\n",
              "    (7): Conv2d(128, 128, kernel_size=(3, 3), stride=(1, 1), padding=(1, 1))\n",
              "    (8): ReLU(inplace=True)\n",
              "    (9): MaxPool2d(kernel_size=2, stride=2, padding=0, dilation=1, ceil_mode=False)\n",
              "    (10): Conv2d(128, 256, kernel_size=(3, 3), stride=(1, 1), padding=(1, 1))\n",
              "    (11): ReLU(inplace=True)\n",
              "    (12): Conv2d(256, 256, kernel_size=(3, 3), stride=(1, 1), padding=(1, 1))\n",
              "    (13): ReLU(inplace=True)\n",
              "    (14): Conv2d(256, 256, kernel_size=(3, 3), stride=(1, 1), padding=(1, 1))\n",
              "    (15): ReLU(inplace=True)\n",
              "    (16): MaxPool2d(kernel_size=2, stride=2, padding=0, dilation=1, ceil_mode=False)\n",
              "    (17): Conv2d(256, 512, kernel_size=(3, 3), stride=(1, 1), padding=(1, 1))\n",
              "    (18): ReLU(inplace=True)\n",
              "    (19): Conv2d(512, 512, kernel_size=(3, 3), stride=(1, 1), padding=(1, 1))\n",
              "    (20): ReLU(inplace=True)\n",
              "    (21): Conv2d(512, 512, kernel_size=(3, 3), stride=(1, 1), padding=(1, 1))\n",
              "    (22): ReLU(inplace=True)\n",
              "    (23): MaxPool2d(kernel_size=2, stride=2, padding=0, dilation=1, ceil_mode=False)\n",
              "    (24): Conv2d(512, 512, kernel_size=(3, 3), stride=(1, 1), padding=(1, 1))\n",
              "    (25): ReLU(inplace=True)\n",
              "    (26): Conv2d(512, 512, kernel_size=(3, 3), stride=(1, 1), padding=(1, 1))\n",
              "    (27): ReLU(inplace=True)\n",
              "    (28): Conv2d(512, 512, kernel_size=(3, 3), stride=(1, 1), padding=(1, 1))\n",
              "    (29): ReLU(inplace=True)\n",
              "    (30): MaxPool2d(kernel_size=2, stride=2, padding=0, dilation=1, ceil_mode=False)\n",
              "  )\n",
              "  (avgpool): AdaptiveAvgPool2d(output_size=(7, 7))\n",
              "  (classifier): Sequential(\n",
              "    (0): Linear(in_features=25088, out_features=4096, bias=True)\n",
              "    (1): ReLU(inplace=True)\n",
              "    (2): Dropout(p=0.5, inplace=False)\n",
              "    (3): Linear(in_features=4096, out_features=4096, bias=True)\n",
              "    (4): ReLU(inplace=True)\n",
              "    (5): Dropout(p=0.5, inplace=False)\n",
              "    (6): Linear(in_features=4096, out_features=1000, bias=True)\n",
              "  )\n",
              ")"
            ]
          },
          "metadata": {},
          "execution_count": 18
        }
      ],
      "source": [
        "import torch\n",
        "import torch.nn as nn\n",
        "import matplotlib.pyplot as plt\n",
        "import numpy as np\n",
        "from torchvision import models\n",
        "\n",
        "model = models.vgg16(pretrained=True)\n",
        "model = model.cuda()\n",
        "softmx = nn.Softmax(dim=1).cuda()\n",
        "model.eval()\n"
      ]
    },
    {
      "cell_type": "code",
      "source": [
        "import copy\n",
        "from PIL import Image\n",
        "# bornes sur les paramètres:\n",
        "# nombre de pixels à modifier\n",
        "Npix = 20\n",
        "Nc = 3\n",
        "bounds = np.array([(0,1), (0,1)] + [(-3., 3.) for m in range(Nc)])\n",
        "\n",
        "# cette fonction permet de dupliquer un vecteur N fois\n",
        "\n",
        "def repeat(x, N):\n",
        "  s = x.shape\n",
        "  x = x.reshape((1,*s)).repeat(N,axis=0).reshape((s[0]*N,-1))\n",
        "  return np.squeeze(x)\n",
        "\n",
        "print(bounds.shape)\n",
        "bounds = repeat(bounds, Npix)\n",
        "print(bounds.shape)\n",
        "\n",
        "# image\n",
        "s = 64\n",
        "path = 'ml-student/TP1/cat.jpg'\n",
        "image = Image.open(path).convert(\"RGB\")\n",
        "image = image.resize((s,s))\n",
        "img = transforms.ToTensor()(image)\n",
        "img = transforms.Normalize([0.485, 0.456, 0.406], [0.229, 0.224, 0.225])(img)\n",
        "# sortie brute\n",
        "img = img.unsqueeze(dim=0).cuda()\n",
        "\n",
        "mean = torch.tensor([0.485, 0.456, 0.406])\n",
        "std = torch.tensor([0.229, 0.224, 0.225])"
      ],
      "metadata": {
        "id": "KgPfH-hhMk5c",
        "outputId": "912f908c-5631-42b3-85fb-b45922f7def1",
        "colab": {
          "base_uri": "https://localhost:8080/"
        }
      },
      "execution_count": 20,
      "outputs": [
        {
          "output_type": "stream",
          "name": "stdout",
          "text": [
            "(5, 2)\n",
            "(100, 2)\n"
          ]
        }
      ]
    },
    {
      "cell_type": "code",
      "source": [
        "# Cette fonction permet de modifier les valeurs des pixels donnés\n",
        "def update_pixels(img,x):\n",
        "  new_img = copy.deepcopy(img).cuda().detach()\n",
        "  for j in range(Npix):\n",
        "    coordx = round((s-1)*x[5*j])\n",
        "    coordy = round((s-1)*x[5*j + 1])\n",
        "    # la normalisation par l'écart type (std) + la moyenne assure que les valeurs données\n",
        "    # aux pixels modifiés ne soient pas aberrantes\n",
        "    newcolumn = torch.tensor([x[5*j + 2],x[5*j + 3],x[5*j + 4]]) * std + mean\n",
        "    new_img[0, :, coordx, coordy] = newcolumn.cuda()\n",
        "  return new_img\n",
        "\n",
        "# cette fonction permet de calculer la loss sur certaines probabilités de classification\n",
        "def loss_over_targets(x):\n",
        "  new_img = update_pixels(img,x)\n",
        "  output = softmx(model(new_img)).squeeze(dim=0)\n",
        "  #loss = -torch.log(output[286:287]).mean() + torch.log(output[281:286]).mean()\n",
        "  # 281,...,286 correspondent aux classes de chats\n",
        "  loss = torch.log(output[281:286]).mean()\n",
        "  return loss.cpu().item()\n",
        "\n",
        "\n",
        "# Cette fonction permet de calculer la prediction du model l'image modifiée\n",
        "def get_pred(x):\n",
        "  new_img = update_pixels(img, x)\n",
        "  output = softmx(model(new_img))\n",
        "  pred = torch.max(output, dim = 1)[1]\n",
        "  mean_proba = output[0,281:286].mean()\n",
        "  return pred.item(), new_img, mean_proba.item()\n"
      ],
      "metadata": {
        "id": "5yMpy7eFT-uq"
      },
      "execution_count": 21,
      "outputs": []
    },
    {
      "cell_type": "code",
      "source": [
        "# exemple\n",
        "x0 = np.array([0.2,0.5,1.2,-1.2,-0.3])\n",
        "\n",
        "print(repeat(x0, Npix))\n",
        "print(loss_over_targets(repeat(x0, Npix)))"
      ],
      "metadata": {
        "id": "LZXd5LsAf30J",
        "outputId": "73d350b5-8b72-4121-94d4-77593ec9be00",
        "colab": {
          "base_uri": "https://localhost:8080/"
        }
      },
      "execution_count": 23,
      "outputs": [
        {
          "output_type": "stream",
          "name": "stdout",
          "text": [
            "[ 0.2  0.5  1.2 -1.2 -0.3  0.2  0.5  1.2 -1.2 -0.3  0.2  0.5  1.2 -1.2\n",
            " -0.3  0.2  0.5  1.2 -1.2 -0.3  0.2  0.5  1.2 -1.2 -0.3  0.2  0.5  1.2\n",
            " -1.2 -0.3  0.2  0.5  1.2 -1.2 -0.3  0.2  0.5  1.2 -1.2 -0.3  0.2  0.5\n",
            "  1.2 -1.2 -0.3  0.2  0.5  1.2 -1.2 -0.3  0.2  0.5  1.2 -1.2 -0.3  0.2\n",
            "  0.5  1.2 -1.2 -0.3  0.2  0.5  1.2 -1.2 -0.3  0.2  0.5  1.2 -1.2 -0.3\n",
            "  0.2  0.5  1.2 -1.2 -0.3  0.2  0.5  1.2 -1.2 -0.3  0.2  0.5  1.2 -1.2\n",
            " -0.3  0.2  0.5  1.2 -1.2 -0.3  0.2  0.5  1.2 -1.2 -0.3  0.2  0.5  1.2\n",
            " -1.2 -0.3]\n",
            "-4.375197887420654\n"
          ]
        }
      ]
    },
    {
      "cell_type": "code",
      "source": [
        "\n",
        "import scipy as sc\n",
        "# Diffrential evolution est algorithme stochastique d'optimisation\n",
        "from scipy.optimize import differential_evolution as de\n",
        "\n",
        "# Nous allons chercher à trouver les pixels et la valeurs à modifier\n",
        "# pour minimiser les probabilités de classifier l'image comme étant un caht\n",
        "result = de(loss_over_targets, bounds = bounds, popsize = 400, mutation = 0.5, maxiter = 1, recombination = 0.05,  seed=1)\n",
        "\n",
        "# print(round((s-1)*result.x[0]))\n",
        "# print(round((s-1)*result.x[1]))\n",
        "# print(result.x[2:])\n",
        "cl_init, _, mean_proba_init = get_pred(repeat(x0,Npix))\n",
        "cl, new_img, mean_proba = get_pred(result.x)\n",
        "print(cl_init, mean_proba_init)\n",
        "print(cl, mean_proba)\n",
        "print(result.fun)\n"
      ],
      "metadata": {
        "id": "DO4LhQM9UCUl",
        "outputId": "3505ebab-7fda-41fc-f9eb-5fb87384d1ba",
        "colab": {
          "base_uri": "https://localhost:8080/"
        }
      },
      "execution_count": 24,
      "outputs": [
        {
          "output_type": "stream",
          "name": "stdout",
          "text": [
            "281 0.18854497373104095\n",
            "478 0.06669550389051437\n",
            "-8.188455581665039\n"
          ]
        }
      ]
    },
    {
      "cell_type": "code",
      "execution_count": 25,
      "metadata": {
        "id": "XlOFTHwj_fOZ"
      },
      "outputs": [],
      "source": [
        "def imshow(inp, title=None, save_path=None):\n",
        "    if save_path is not None:\n",
        "        torch.save(inp, save_path)\n",
        "    inp = inp.numpy().transpose((1, 2, 0))\n",
        "    mean = np.array([0.485, 0.456, 0.406])\n",
        "    std = np.array([0.229, 0.224, 0.225])\n",
        "    inp = std * inp + mean\n",
        "    inp = np.clip(inp, 0, 1)\n",
        "    plt.imshow(inp)\n",
        "    if title is not None:\n",
        "        plt.title(title)"
      ]
    },
    {
      "cell_type": "code",
      "source": [
        "print(round((s-1)*result.x[0]))\n",
        "print(round((s-1)*result.x[1]))\n",
        "\n",
        "print(result.x[2:])\n",
        "\n",
        "cl, new_img = get_pred(result.x)\n",
        "print(cl)\n",
        "imshow(new_img.squeeze(dim=0).cpu())"
      ],
      "metadata": {
        "id": "8v3iChCeUGdw",
        "outputId": "90a6ea8d-a4fa-4c0f-a472-13de81dc24ec",
        "colab": {
          "base_uri": "https://localhost:8080/",
          "height": 577
        }
      },
      "execution_count": 26,
      "outputs": [
        {
          "output_type": "stream",
          "name": "stdout",
          "text": [
            "1\n",
            "6\n",
            "[ 0.17201936 -1.0210491   0.91123882  0.42352505  0.18979849 -1.99737049\n",
            " -1.69988264  0.14548844  0.83438709  0.55892702 -2.82417868 -2.65634738\n",
            "  0.67255811  0.9748513   0.48318814  1.66049423 -2.08977263 -1.29915365\n",
            "  0.76193684  0.87110042  2.64251931 -1.67664241 -0.21745681  0.92976958\n",
            "  0.13970375  2.01873362  2.34081689 -1.17804357  0.66696562  0.05545257\n",
            " -2.04837395 -0.93570721 -1.98029849  0.83561452  0.05746827 -1.74724892\n",
            " -0.30088305  0.536443    0.58210513  0.81835211 -0.64551438 -0.90989786\n",
            " -0.67203224  0.50055365  0.74405391  1.47410554 -0.95658008 -2.6581791\n",
            "  0.16611753  0.76165334  1.32551055 -0.12914898  2.14620973  0.36301936\n",
            "  0.75787551 -1.27838426 -0.68368644 -1.02720606  0.82823247  0.80827741\n",
            " -1.1944024   2.30775281 -0.61998134  0.18345209  0.34307205 -2.08270576\n",
            " -1.50891288  1.62970416  0.04126463  0.48784556 -1.24992245  0.91613368\n",
            "  2.98919035  0.10481774  0.09576569 -1.67827487 -2.44345732 -1.05848791\n",
            "  0.36499438  0.05850281  2.338427    1.44932475  1.43179509  0.93308968\n",
            "  0.79193606 -2.67844485 -0.22984134  2.7723133   0.71515767  0.46868899\n",
            "  2.8516558   0.2868624  -2.79525702  0.2568924   0.69474548 -0.14276525\n",
            "  2.42946257  2.75460216]\n"
          ]
        },
        {
          "output_type": "error",
          "ename": "ValueError",
          "evalue": "too many values to unpack (expected 2)",
          "traceback": [
            "\u001b[0;31m---------------------------------------------------------------------------\u001b[0m",
            "\u001b[0;31mValueError\u001b[0m                                Traceback (most recent call last)",
            "\u001b[0;32m<ipython-input-26-3a554febd518>\u001b[0m in \u001b[0;36m<cell line: 6>\u001b[0;34m()\u001b[0m\n\u001b[1;32m      4\u001b[0m \u001b[0mprint\u001b[0m\u001b[0;34m(\u001b[0m\u001b[0mresult\u001b[0m\u001b[0;34m.\u001b[0m\u001b[0mx\u001b[0m\u001b[0;34m[\u001b[0m\u001b[0;36m2\u001b[0m\u001b[0;34m:\u001b[0m\u001b[0;34m]\u001b[0m\u001b[0;34m)\u001b[0m\u001b[0;34m\u001b[0m\u001b[0;34m\u001b[0m\u001b[0m\n\u001b[1;32m      5\u001b[0m \u001b[0;34m\u001b[0m\u001b[0m\n\u001b[0;32m----> 6\u001b[0;31m \u001b[0mcl\u001b[0m\u001b[0;34m,\u001b[0m \u001b[0mnew_img\u001b[0m \u001b[0;34m=\u001b[0m \u001b[0mget_pred\u001b[0m\u001b[0;34m(\u001b[0m\u001b[0mresult\u001b[0m\u001b[0;34m.\u001b[0m\u001b[0mx\u001b[0m\u001b[0;34m)\u001b[0m\u001b[0;34m\u001b[0m\u001b[0;34m\u001b[0m\u001b[0m\n\u001b[0m\u001b[1;32m      7\u001b[0m \u001b[0mprint\u001b[0m\u001b[0;34m(\u001b[0m\u001b[0mcl\u001b[0m\u001b[0;34m)\u001b[0m\u001b[0;34m\u001b[0m\u001b[0;34m\u001b[0m\u001b[0m\n\u001b[1;32m      8\u001b[0m \u001b[0mimshow\u001b[0m\u001b[0;34m(\u001b[0m\u001b[0mnew_img\u001b[0m\u001b[0;34m.\u001b[0m\u001b[0msqueeze\u001b[0m\u001b[0;34m(\u001b[0m\u001b[0mdim\u001b[0m\u001b[0;34m=\u001b[0m\u001b[0;36m0\u001b[0m\u001b[0;34m)\u001b[0m\u001b[0;34m.\u001b[0m\u001b[0mcpu\u001b[0m\u001b[0;34m(\u001b[0m\u001b[0;34m)\u001b[0m\u001b[0;34m)\u001b[0m\u001b[0;34m\u001b[0m\u001b[0;34m\u001b[0m\u001b[0m\n",
            "\u001b[0;31mValueError\u001b[0m: too many values to unpack (expected 2)"
          ]
        }
      ]
    },
    {
      "cell_type": "code",
      "execution_count": null,
      "metadata": {
        "colab": {
          "base_uri": "https://localhost:8080/",
          "height": 285
        },
        "id": "wNi8jykKiLvR",
        "outputId": "fdd8540c-082e-45c6-8fad-d307d08102ea"
      },
      "outputs": [
        {
          "output_type": "stream",
          "name": "stdout",
          "text": [
            "classe prédite : 333 (hamster)\n"
          ]
        },
        {
          "output_type": "display_data",
          "data": {
            "text/plain": [
              "<Figure size 432x288 with 1 Axes>"
            ],
            "image/png": "[encoded data removed]"
          },
          "metadata": {
            "needs_background": "light"
          }
        }
      ],
      "source": [
        "## Après optimisation voici une configuration qui arrive à tromper le modèle\n",
        "path = 'Ou/est/disrupted_cat.jpg'\n",
        "dcat = torch.load(path)\n",
        "imshow(dcat)\n",
        "\n",
        "dcat = dcat.unsqueeze(dim=0).cuda()\n",
        "output_dcat = softmx(model(dcat)).squeeze(dim=0)\n",
        "pred_dcat = torch.max(output_dcat, dim=0)[1].item()\n",
        "print(\"classe prédite : \" + str(pred_dcat) + \" (hamster)\")"
      ]
    }
  ],
  "metadata": {
    "accelerator": "GPU",
    "colab": {
      "provenance": []
    },
    "gpuClass": "standard",
    "kernelspec": {
      "display_name": "Python 3",
      "name": "python3"
    }
  },
  "nbformat": 4,
  "nbformat_minor": 0
}